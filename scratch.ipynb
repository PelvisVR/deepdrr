{
 "cells": [
  {
   "cell_type": "code",
   "execution_count": 5,
   "metadata": {},
   "outputs": [],
   "source": [
    "from deepdrr.device import MobileCArm\n",
    "import numpy as np"
   ]
  },
  {
   "cell_type": "code",
   "execution_count": 6,
   "metadata": {},
   "outputs": [],
   "source": [
    "a = MobileCArm()"
   ]
  },
  {
   "cell_type": "code",
   "execution_count": 11,
   "metadata": {},
   "outputs": [
    {
     "data": {
      "text/plain": [
       "array([[5257.732,    0.   ,  768.   ],\n",
       "       [   0.   , 5257.732,  768.   ],\n",
       "       [   0.   ,    0.   ,    1.   ]], dtype=float32)"
      ]
     },
     "execution_count": 11,
     "metadata": {},
     "output_type": "execute_result"
    }
   ],
   "source": [
    "# non scientific notation\n",
    "np.set_printoptions(suppress=True)\n",
    "np.array(a.camera_intrinsics)"
   ]
  },
  {
   "cell_type": "code",
   "execution_count": 12,
   "metadata": {},
   "outputs": [
    {
     "data": {
      "text/plain": [
       "5257.731958762886"
      ]
     },
     "execution_count": 12,
     "metadata": {},
     "output_type": "execute_result"
    }
   ],
   "source": [
    "obj_loc = 1536*0.194/2\n",
    "source_to_detector_distance = 1020\n",
    "\n",
    "image_loc = 1536/2\n",
    "image_loc * source_to_detector_distance / obj_loc\n",
    "\n",
    "\n"
   ]
  },
  {
   "cell_type": "code",
   "execution_count": null,
   "metadata": {},
   "outputs": [],
   "source": [
    "                camera_projections = [self.device.get_camera_projection()]\n",
    "                # log.debug(\n",
    "                    # f\"projecting with source at {camera_projections[0].center_in_world}, pointing in {self.device.principle_ray_in_world}...\"\n",
    "                # )\n",
    "                self.max_ray_length = (\n",
    "                    math.sqrt(  # TODO: can these really change after construction?\n",
    "                        self.device.source_to_detector_distance**2\n",
    "                        + self.device.detector_height**2\n",
    "                        + self.device.detector_width**2\n",
    "                    )\n",
    "                )\n",
    "\n",
    "            intensity, photon_prob = self._render_single(proj)\n",
    "            self._render_mesh(proj)\n"
   ]
  }
 ],
 "metadata": {
  "kernelspec": {
   "display_name": "deepdrr",
   "language": "python",
   "name": "python3"
  },
  "language_info": {
   "codemirror_mode": {
    "name": "ipython",
    "version": 3
   },
   "file_extension": ".py",
   "mimetype": "text/x-python",
   "name": "python",
   "nbconvert_exporter": "python",
   "pygments_lexer": "ipython3",
   "version": "3.10.12"
  },
  "orig_nbformat": 4
 },
 "nbformat": 4,
 "nbformat_minor": 2
}
