{
 "cells": [
  {
   "cell_type": "code",
   "execution_count": 472,
   "metadata": {},
   "outputs": [],
   "source": [
    "import numpy as np\n",
    "import matplotlib.pyplot as plt\n",
    "import pandas as pd\n",
    "\n",
    "import distinctipy\n"
   ]
  },
  {
   "cell_type": "code",
   "execution_count": 473,
   "metadata": {},
   "outputs": [
    {
     "name": "stdout",
     "output_type": "stream",
     "text": [
      "(60000, 32)\n",
      "(array([-1,  0,  1], dtype=int8), array([  28806, 1862388,   28806]))\n",
      "min: -1, max: 1\n"
     ]
    },
    {
     "data": {
      "text/plain": [
       "array([[0, 0, 0, ..., 0, 0, 0],\n",
       "       [0, 0, 0, ..., 0, 0, 0],\n",
       "       [0, 0, 0, ..., 0, 0, 0],\n",
       "       ...,\n",
       "       [0, 0, 0, ..., 0, 0, 0],\n",
       "       [0, 0, 0, ..., 0, 0, 0],\n",
       "       [0, 0, 0, ..., 0, 0, 0]], dtype=int8)"
      ]
     },
     "execution_count": 473,
     "metadata": {},
     "output_type": "execute_result"
    }
   ],
   "source": [
    "facing = np.load(\"facing.npy\")\n",
    "print(facing.shape)\n",
    "print(np.unique(facing, return_counts=True))\n",
    "print(f\"min: {facing.min()}, max: {facing.max()}\")\n",
    "facing"
   ]
  },
  {
   "cell_type": "code",
   "execution_count": 474,
   "metadata": {},
   "outputs": [
    {
     "name": "stdout",
     "output_type": "stream",
     "text": [
      "(60000, 32)\n",
      "(array([487.8176 , 487.834  , 487.83408, ..., 926.47656, 926.50366,\n",
      "             inf], dtype=float32), array([      1,       1,       1, ...,       1,       1, 1862388]))\n",
      "min: 487.8175964355469, max: inf\n"
     ]
    },
    {
     "data": {
      "text/plain": [
       "array([[nan, nan, nan, ..., nan, nan, nan],\n",
       "       [nan, nan, nan, ..., nan, nan, nan],\n",
       "       [nan, nan, nan, ..., nan, nan, nan],\n",
       "       ...,\n",
       "       [nan, nan, nan, ..., nan, nan, nan],\n",
       "       [nan, nan, nan, ..., nan, nan, nan],\n",
       "       [nan, nan, nan, ..., nan, nan, nan]], dtype=float32)"
      ]
     },
     "execution_count": 474,
     "metadata": {},
     "output_type": "execute_result"
    }
   ],
   "source": [
    "alphas = np.load(\"alphas.npy\")\n",
    "print(alphas.shape)\n",
    "print(np.unique(alphas, return_counts=True))\n",
    "print(f\"min: {alphas.min()}, max: {alphas.max()}\")\n",
    "alphas[alphas == np.inf] = np.nan\n",
    "alphas"
   ]
  },
  {
   "cell_type": "code",
   "execution_count": 475,
   "metadata": {},
   "outputs": [],
   "source": [
    "for i in range(alphas.shape[0]):\n",
    "    x = alphas[i]\n",
    "    x = x[~np.isnan(x)]\n",
    "    if len(np.unique(x)) != len(x):\n",
    "        print(i, np.unique(x), x)\n",
    "        "
   ]
  },
  {
   "cell_type": "code",
   "execution_count": 476,
   "metadata": {},
   "outputs": [
    {
     "data": {
      "text/plain": [
       "array([1, 1, 1, ..., 1, 1, 1])"
      ]
     },
     "execution_count": 476,
     "metadata": {},
     "output_type": "execute_result"
    }
   ],
   "source": [
    "a, b = np.unique(alphas, axis=0, return_counts=True)\n",
    "\n",
    "b"
   ]
  },
  {
   "cell_type": "code",
   "execution_count": 477,
   "metadata": {},
   "outputs": [
    {
     "data": {
      "text/plain": [
       "array([nan, nan, nan, ..., nan, nan, nan], dtype=float32)"
      ]
     },
     "execution_count": 477,
     "metadata": {},
     "output_type": "execute_result"
    }
   ],
   "source": [
    "alphas[:,0]"
   ]
  },
  {
   "cell_type": "code",
   "execution_count": 478,
   "metadata": {},
   "outputs": [
    {
     "data": {
      "text/plain": [
       "(32, 200, 300)"
      ]
     },
     "execution_count": 478,
     "metadata": {},
     "output_type": "execute_result"
    }
   ],
   "source": [
    "facings = facing\n",
    "facings = facings.swapaxes(0, 1)\n",
    "facings = facings.reshape((-1, 200, 300))\n",
    "facings.shape"
   ]
  },
  {
   "cell_type": "code",
   "execution_count": 479,
   "metadata": {},
   "outputs": [
    {
     "data": {
      "text/plain": [
       "(32, 200, 300)"
      ]
     },
     "execution_count": 479,
     "metadata": {},
     "output_type": "execute_result"
    }
   ],
   "source": [
    "layers = alphas\n",
    "layers = layers.swapaxes(0, 1)\n",
    "layers = layers.reshape((-1, 200, 300))\n",
    "layers.shape"
   ]
  },
  {
   "cell_type": "code",
   "execution_count": 480,
   "metadata": {},
   "outputs": [],
   "source": [
    "# layers = np.load(\"peeledlayers.npy\")\n",
    "# print(layers.shape)"
   ]
  },
  {
   "cell_type": "code",
   "execution_count": 481,
   "metadata": {},
   "outputs": [
    {
     "data": {
      "text/plain": [
       "-2040.0"
      ]
     },
     "execution_count": 481,
     "metadata": {},
     "output_type": "execute_result"
    }
   ],
   "source": [
    "# orderedlayers = np.concatenate([layers[0::4], np.flip(layers[1::4], 0), layers[2::4], np.flip(layers[3::4], 0)], axis=0)\n",
    "\n",
    "zfar = np.min(orderedlayers)\n",
    "zfar\n"
   ]
  },
  {
   "cell_type": "code",
   "execution_count": 482,
   "metadata": {},
   "outputs": [
    {
     "name": "stdout",
     "output_type": "stream",
     "text": [
      "(200, 300)\n"
     ]
    }
   ],
   "source": [
    "print(layers[0].shape)\n",
    "a = list(layers[0].shape)\n",
    "# a = list(reversed(list(layers[0].shape)))\n",
    "indices = np.array(list(np.ndindex(tuple(a))))\n",
    "allims = [np.concatenate([indices, layers[i].flatten()[:,None], i*np.ones(shape=(indices.shape[0]))[:,None], facings[i].flatten()[:,None]], axis=1) for i in range(layers.shape[0])]\n",
    "allims = np.concatenate(allims, axis=0)\n",
    "\n",
    "where = np.where(np.logical_and(allims[:,2] > -np.inf, allims[:,2] < np.inf))\n",
    "# where = np.where(np.logical_and(allims[:,2] > zfar+1, allims[:,2] < -zfar-1))\n",
    "allims = allims[where] \n",
    "allims[:,:2] *= 0.5"
   ]
  },
  {
   "cell_type": "code",
   "execution_count": 483,
   "metadata": {},
   "outputs": [
    {
     "data": {
      "text/html": [
       "<div>\n",
       "<style scoped>\n",
       "    .dataframe tbody tr th:only-of-type {\n",
       "        vertical-align: middle;\n",
       "    }\n",
       "\n",
       "    .dataframe tbody tr th {\n",
       "        vertical-align: top;\n",
       "    }\n",
       "\n",
       "    .dataframe thead th {\n",
       "        text-align: right;\n",
       "    }\n",
       "</style>\n",
       "<table border=\"1\" class=\"dataframe\">\n",
       "  <thead>\n",
       "    <tr style=\"text-align: right;\">\n",
       "      <th></th>\n",
       "      <th>x</th>\n",
       "      <th>y</th>\n",
       "      <th>z</th>\n",
       "      <th>i</th>\n",
       "      <th>facing</th>\n",
       "    </tr>\n",
       "  </thead>\n",
       "  <tbody>\n",
       "    <tr>\n",
       "      <th>0</th>\n",
       "      <td>2.0</td>\n",
       "      <td>30.0</td>\n",
       "      <td>886.616089</td>\n",
       "      <td>0</td>\n",
       "      <td>1.0</td>\n",
       "    </tr>\n",
       "    <tr>\n",
       "      <th>1</th>\n",
       "      <td>2.0</td>\n",
       "      <td>30.5</td>\n",
       "      <td>886.588928</td>\n",
       "      <td>0</td>\n",
       "      <td>1.0</td>\n",
       "    </tr>\n",
       "    <tr>\n",
       "      <th>2</th>\n",
       "      <td>2.0</td>\n",
       "      <td>31.0</td>\n",
       "      <td>886.562073</td>\n",
       "      <td>0</td>\n",
       "      <td>1.0</td>\n",
       "    </tr>\n",
       "    <tr>\n",
       "      <th>3</th>\n",
       "      <td>2.0</td>\n",
       "      <td>31.5</td>\n",
       "      <td>886.535583</td>\n",
       "      <td>0</td>\n",
       "      <td>1.0</td>\n",
       "    </tr>\n",
       "    <tr>\n",
       "      <th>4</th>\n",
       "      <td>2.0</td>\n",
       "      <td>32.0</td>\n",
       "      <td>886.509338</td>\n",
       "      <td>0</td>\n",
       "      <td>1.0</td>\n",
       "    </tr>\n",
       "    <tr>\n",
       "      <th>...</th>\n",
       "      <td>...</td>\n",
       "      <td>...</td>\n",
       "      <td>...</td>\n",
       "      <td>...</td>\n",
       "      <td>...</td>\n",
       "    </tr>\n",
       "    <tr>\n",
       "      <th>57607</th>\n",
       "      <td>71.0</td>\n",
       "      <td>131.0</td>\n",
       "      <td>512.566589</td>\n",
       "      <td>5</td>\n",
       "      <td>-1.0</td>\n",
       "    </tr>\n",
       "    <tr>\n",
       "      <th>57608</th>\n",
       "      <td>71.0</td>\n",
       "      <td>131.5</td>\n",
       "      <td>512.507385</td>\n",
       "      <td>5</td>\n",
       "      <td>-1.0</td>\n",
       "    </tr>\n",
       "    <tr>\n",
       "      <th>57609</th>\n",
       "      <td>71.0</td>\n",
       "      <td>132.0</td>\n",
       "      <td>512.536255</td>\n",
       "      <td>5</td>\n",
       "      <td>-1.0</td>\n",
       "    </tr>\n",
       "    <tr>\n",
       "      <th>57610</th>\n",
       "      <td>71.0</td>\n",
       "      <td>132.5</td>\n",
       "      <td>512.663513</td>\n",
       "      <td>5</td>\n",
       "      <td>-1.0</td>\n",
       "    </tr>\n",
       "    <tr>\n",
       "      <th>57611</th>\n",
       "      <td>71.0</td>\n",
       "      <td>133.0</td>\n",
       "      <td>512.791016</td>\n",
       "      <td>5</td>\n",
       "      <td>-1.0</td>\n",
       "    </tr>\n",
       "  </tbody>\n",
       "</table>\n",
       "<p>57612 rows × 5 columns</p>\n",
       "</div>"
      ],
      "text/plain": [
       "          x      y           z  i  facing\n",
       "0       2.0   30.0  886.616089  0     1.0\n",
       "1       2.0   30.5  886.588928  0     1.0\n",
       "2       2.0   31.0  886.562073  0     1.0\n",
       "3       2.0   31.5  886.535583  0     1.0\n",
       "4       2.0   32.0  886.509338  0     1.0\n",
       "...     ...    ...         ... ..     ...\n",
       "57607  71.0  131.0  512.566589  5    -1.0\n",
       "57608  71.0  131.5  512.507385  5    -1.0\n",
       "57609  71.0  132.0  512.536255  5    -1.0\n",
       "57610  71.0  132.5  512.663513  5    -1.0\n",
       "57611  71.0  133.0  512.791016  5    -1.0\n",
       "\n",
       "[57612 rows x 5 columns]"
      ]
     },
     "execution_count": 483,
     "metadata": {},
     "output_type": "execute_result"
    }
   ],
   "source": [
    "df = pd.DataFrame(allims, columns=[\"x\", \"y\", \"z\", \"i\", \"facing\"])\n",
    "df[\"i\"] = df[\"i\"].astype(int)\n",
    "df"
   ]
  },
  {
   "cell_type": "code",
   "execution_count": 488,
   "metadata": {},
   "outputs": [],
   "source": [
    "def random_color():\n",
    "    return np.random.randint(0, 255, size=3)\n",
    "\n",
    "colors = distinctipy.get_colors(orderedlayers.shape[0])\n",
    "\n",
    "\n",
    "# for i in range(orderedlayers.shape[0]):\n",
    "#     col = colors[i]\n",
    "#     df.loc[df[\"i\"] == i, \"red\"] = col[0]*255\n",
    "#     df.loc[df[\"i\"] == i, \"green\"] = col[1]*255\n",
    "#     df.loc[df[\"i\"] == i, \"blue\"] = col[2]*255\n",
    "df[\"red\"] = 0\n",
    "df[\"green\"] = 0\n",
    "df[\"blue\"] = 0\n",
    "df.loc[df[\"facing\"] == -1, \"red\"] = 255\n",
    "df.loc[df[\"facing\"] == 1, \"green\"] = 255"
   ]
  },
  {
   "cell_type": "code",
   "execution_count": 489,
   "metadata": {},
   "outputs": [
    {
     "name": "stderr",
     "output_type": "stream",
     "text": [
      "/home/pelvisvr/mambaforge/envs/deepdrr-dev/lib/python3.8/site-packages/pythreejs/traits.py:257: UserWarning: 64-bit data types not supported for WebGL data, casting to 32-bit.\n",
      "  warnings.warn('64-bit data types not supported for WebGL '\n"
     ]
    },
    {
     "data": {
      "application/vnd.jupyter.widget-view+json": {
       "model_id": "c30828619e05404facb38dbf95125820",
       "version_major": 2,
       "version_minor": 0
      },
      "text/plain": [
       "Renderer(camera=PerspectiveCamera(aspect=1.6, fov=90.0, position=(51.25539818093453, 241.56224397694925, 2015.…"
      ]
     },
     "metadata": {},
     "output_type": "display_data"
    },
    {
     "data": {
      "application/vnd.jupyter.widget-view+json": {
       "model_id": "2ded8998bf414947812412c314ec0c1e",
       "version_major": 2,
       "version_minor": 0
      },
      "text/plain": [
       "HBox(children=(Label(value='Point size:'), FloatSlider(value=1.0, max=10.0, step=0.01), Label(value='Backgroun…"
      ]
     },
     "metadata": {},
     "output_type": "display_data"
    }
   ],
   "source": [
    "from pyntcloud import PyntCloud\n",
    "import numpy as np\n",
    "import pandas as pd\n",
    "from pyntcloud import PyntCloud\n",
    "\n",
    "cloud = PyntCloud(df)\n",
    "\n",
    "cloud.plot(backend=\"pythreejs\", initial_point_size=1)"
   ]
  },
  {
   "cell_type": "code",
   "execution_count": null,
   "metadata": {},
   "outputs": [],
   "source": []
  }
 ],
 "metadata": {
  "kernelspec": {
   "display_name": "deepdrr-dev",
   "language": "python",
   "name": "python3"
  },
  "language_info": {
   "codemirror_mode": {
    "name": "ipython",
    "version": 3
   },
   "file_extension": ".py",
   "mimetype": "text/x-python",
   "name": "python",
   "nbconvert_exporter": "python",
   "pygments_lexer": "ipython3",
   "version": "3.8.17"
  },
  "orig_nbformat": 4
 },
 "nbformat": 4,
 "nbformat_minor": 2
}
