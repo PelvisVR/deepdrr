{
 "cells": [
  {
   "cell_type": "code",
   "execution_count": 18,
   "metadata": {},
   "outputs": [],
   "source": [
    "import numpy as np\n",
    "import matplotlib.pyplot as plt\n"
   ]
  },
  {
   "cell_type": "code",
   "execution_count": 19,
   "metadata": {},
   "outputs": [
    {
     "name": "stdout",
     "output_type": "stream",
     "text": [
      "(16, 300, 200)\n"
     ]
    }
   ],
   "source": [
    "layers = np.load(\"peeledlayers.npy\")\n",
    "print(layers.shape)"
   ]
  },
  {
   "cell_type": "code",
   "execution_count": 20,
   "metadata": {},
   "outputs": [],
   "source": [
    "orderedlayers = np.concatenate([layers[0::4], np.flip(layers[1::4], 0), layers[2::4], np.flip(layers[3::4], 0)], axis=0)\n",
    "\n",
    "zfar = np.min(orderedlayers)\n"
   ]
  },
  {
   "cell_type": "code",
   "execution_count": 21,
   "metadata": {},
   "outputs": [],
   "source": [
    "# abovezfar = orderedlayers > zfar+1\n",
    "# orderedlayers[~abovezfar] = np.min(orderedlayers[abovezfar])\n",
    "\n",
    "# belowzfar = orderedlayers < -zfar-1\n",
    "# orderedlayers[~belowzfar] = np.max(orderedlayers[belowzfar])"
   ]
  },
  {
   "cell_type": "code",
   "execution_count": 22,
   "metadata": {},
   "outputs": [
    {
     "data": {
      "text/plain": [
       "[487.8176,\n",
       " 492.00497,\n",
       " 2040.0,\n",
       " 2040.0,\n",
       " -2040.0,\n",
       " -2040.0,\n",
       " -2040.0,\n",
       " -2040.0,\n",
       " 488.19415,\n",
       " 488.19415,\n",
       " 2040.0,\n",
       " 2040.0,\n",
       " -2040.0,\n",
       " -2040.0,\n",
       " -2040.0,\n",
       " -2040.0]"
      ]
     },
     "execution_count": 22,
     "metadata": {},
     "output_type": "execute_result"
    }
   ],
   "source": [
    "[np.min(x) for x in orderedlayers]"
   ]
  },
  {
   "cell_type": "code",
   "execution_count": 23,
   "metadata": {},
   "outputs": [],
   "source": [
    "# for i in range(orderedlayers.shape[0]):\n",
    "#     im = orderedlayers[i]\n",
    "#     print(im.max())\n",
    "#     plt.imshow(im, cmap=\"nipy_spectral\")\n",
    "#     plt.show()"
   ]
  },
  {
   "cell_type": "code",
   "execution_count": null,
   "metadata": {},
   "outputs": [],
   "source": []
  },
  {
   "cell_type": "code",
   "execution_count": 43,
   "metadata": {},
   "outputs": [],
   "source": [
    "indices = np.array(list(np.ndindex(layers[0].shape)))\n",
    "allims = [np.concatenate([indices, orderedlayers[i].flatten()[:,None], i*np.ones(shape=(indices.shape[0]))[:,None]], axis=1) for i in range(orderedlayers.shape[0])]\n",
    "allims = np.concatenate(allims, axis=0)\n",
    "\n",
    "where = np.where(np.logical_and(allims[:,2] > zfar+1, allims[:,2] < -zfar-1))\n",
    "allims = allims[where] \n",
    "allims[:,:2] *= 0.5"
   ]
  },
  {
   "cell_type": "code",
   "execution_count": 44,
   "metadata": {},
   "outputs": [],
   "source": [
    "df = pd.DataFrame(allims, columns=[\"x\", \"y\", \"z\", \"i\"])\n",
    "df[\"i\"] = df[\"i\"].astype(int)"
   ]
  },
  {
   "cell_type": "code",
   "execution_count": 47,
   "metadata": {},
   "outputs": [],
   "source": [
    "def random_color():\n",
    "    return np.random.randint(0, 255, size=3)\n",
    "\n",
    "for i in range(orderedlayers.shape[0]):\n",
    "    col = random_color()\n",
    "    df.loc[df[\"i\"] == i, \"red\"] = col[0]\n",
    "    df.loc[df[\"i\"] == i, \"green\"] = col[1]\n",
    "    df.loc[df[\"i\"] == i, \"blue\"] = col[2]"
   ]
  },
  {
   "cell_type": "code",
   "execution_count": 48,
   "metadata": {},
   "outputs": [
    {
     "name": "stderr",
     "output_type": "stream",
     "text": [
      "/home/pelvisvr/mambaforge/envs/deepdrr-dev/lib/python3.8/site-packages/pythreejs/traits.py:257: UserWarning: 64-bit data types not supported for WebGL data, casting to 32-bit.\n",
      "  warnings.warn('64-bit data types not supported for WebGL '\n"
     ]
    },
    {
     "data": {
      "application/vnd.jupyter.widget-view+json": {
       "model_id": "3c6bdce64b1541f79cd156d41112b211",
       "version_major": 2,
       "version_minor": 0
      },
      "text/plain": [
       "Renderer(camera=PerspectiveCamera(aspect=1.6, fov=90.0, position=(91.79613761350556, 145.71107923921582, 2019.…"
      ]
     },
     "metadata": {},
     "output_type": "display_data"
    },
    {
     "data": {
      "application/vnd.jupyter.widget-view+json": {
       "model_id": "d4e7848797964f248461ffed25b1079d",
       "version_major": 2,
       "version_minor": 0
      },
      "text/plain": [
       "HBox(children=(Label(value='Point size:'), FloatSlider(value=92.6503662109375, max=926.503662109375, step=0.92…"
      ]
     },
     "metadata": {},
     "output_type": "display_data"
    }
   ],
   "source": [
    "from pyntcloud import PyntCloud\n",
    "import numpy as np\n",
    "import pandas as pd\n",
    "from pyntcloud import PyntCloud\n",
    "\n",
    "cloud = PyntCloud(df)\n",
    "\n",
    "cloud.plot(backend=\"pythreejs\")"
   ]
  },
  {
   "cell_type": "code",
   "execution_count": null,
   "metadata": {},
   "outputs": [],
   "source": []
  }
 ],
 "metadata": {
  "kernelspec": {
   "display_name": "deepdrr-dev",
   "language": "python",
   "name": "python3"
  },
  "language_info": {
   "codemirror_mode": {
    "name": "ipython",
    "version": 3
   },
   "file_extension": ".py",
   "mimetype": "text/x-python",
   "name": "python",
   "nbconvert_exporter": "python",
   "pygments_lexer": "ipython3",
   "version": "3.8.17"
  },
  "orig_nbformat": 4
 },
 "nbformat": 4,
 "nbformat_minor": 2
}
