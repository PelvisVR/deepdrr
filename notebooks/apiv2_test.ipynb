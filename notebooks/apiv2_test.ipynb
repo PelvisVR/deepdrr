{
 "cells": [
  {
   "cell_type": "code",
   "execution_count": 1,
   "metadata": {},
   "outputs": [],
   "source": [
    "%load_ext autoreload\n",
    "%autoreload 2"
   ]
  },
  {
   "cell_type": "code",
   "execution_count": 2,
   "metadata": {},
   "outputs": [],
   "source": [
    "from deepdrr.utils import test_utils\n",
    "from deepdrr.two.renderer import *\n",
    "from deepdrr.two.profiles import *\n",
    "\n",
    "from deepdrr.two.renderable import *\n",
    "from deepdrr.two.devices import *\n",
    "\n"
   ]
  },
  {
   "cell_type": "code",
   "execution_count": 3,
   "metadata": {},
   "outputs": [
    {
     "name": "stdout",
     "output_type": "stream",
     "text": [
      "Using downloaded and verified file: /home/pelvisvr/datasets/DeepDRR_DATA/CT-chest.nrrd\n",
      "/home/pelvisvr/datasets/DeepDRR_DATA/CT-chest.nrrd\n"
     ]
    }
   ],
   "source": [
    "f = test_utils.download_sampledata(\"CT-chest\")\n",
    "mf = Path(\"tests/resources/suzanne.stl\")\n",
    "mf2 = Path(\"tests/resources/threads.stl\")\n",
    "print(f)"
   ]
  },
  {
   "cell_type": "code",
   "execution_count": 4,
   "metadata": {},
   "outputs": [],
   "source": [
    "volume = Volume.from_nrrd(f)\n",
    "\n",
    "mesh1 = Mesh.from_stl(mf, tags=[\"mesh1\"])\n",
    "mesh2 = Mesh.from_stl(mf2, tags=[\"mesh2\"])\n",
    "\n",
    "carm = MobileCArm()\n",
    "\n",
    "graph = TransformTree()\n",
    "graph.add(carm)\n",
    "graph.add(volume)\n",
    "graph.add(mesh1)\n",
    "graph.add(mesh2)\n",
    "\n",
    "scene = GraphScene(graph)\n",
    "\n",
    "drr_json_path = Path(\"drr.json\")\n",
    "rast_json_path = Path(\"rasterize.json\")\n",
    "\n",
    "drr_settings = DRRRenderSettings(\n",
    "    width=512,\n",
    "    height=512,\n",
    "    neglog=True,\n",
    ")\n",
    "drr_prof = DRRRenderProfile(\n",
    "    settings=drr_settings,\n",
    "    renderer=DeferredRenderer(drr_json_path),\n",
    "    # renderer=SynchronousRenderer(),\n",
    "    scene=scene\n",
    ")\n",
    "\n",
    "rast_settings = RasterizeRenderSettings(\n",
    "    width=512,\n",
    "    height=512,\n",
    "    max_mesh_hits=32,\n",
    ")\n",
    "rasterize_prof = RasterizeRenderProfile(\n",
    "    settings=rast_settings,\n",
    "    renderer=DeferredRenderer(rast_json_path),\n",
    "    # renderer=SynchronousRenderer(),\n",
    "    scene=scene\n",
    ")\n",
    "\n"
   ]
  },
  {
   "cell_type": "code",
   "execution_count": 5,
   "metadata": {},
   "outputs": [
    {
     "data": {
      "text/plain": [
       "<deepdrr.frontend.profiles.RasterizeRenderProfile at 0x7faca294de70>"
      ]
     },
     "execution_count": 5,
     "metadata": {},
     "output_type": "execute_result"
    }
   ],
   "source": [
    "drr_prof.__enter__()\n",
    "rasterize_prof.__enter__()\n"
   ]
  },
  {
   "cell_type": "code",
   "execution_count": 6,
   "metadata": {},
   "outputs": [],
   "source": [
    "\n",
    "mesh1.world_from_anatomical = geo.FrameTransform.from_translation([-30, 50, 200])\n",
    "\n",
    "\n",
    "# with drr_prof, rasterize_prof:\n",
    "for frame_idx in range(10):\n",
    "    mesh2.world_from_anatomical = geo.FrameTransform.from_translation([0, 0, 10*frame_idx])\n",
    "\n",
    "    carm.move_by(\n",
    "        delta_isocenter=[0, 0, 10],\n",
    "        delta_alpha=5*frame_idx,\n",
    "        delta_beta=0,\n",
    "        delta_gamma=0,\n",
    "        degrees=False,\n",
    "    )\n",
    "\n",
    "    drr = drr_prof.render_drr(f\"./drr_out/frame_{frame_idx:03d}.png\")\n",
    "\n",
    "    segs = rasterize_prof.render_seg(f\"./seg_out/frame_{frame_idx:03d}.png\", tags=[\"mesh1\", \"mesh2\"])\n",
    "\n",
    "\n",
    "    "
   ]
  },
  {
   "cell_type": "code",
   "execution_count": 7,
   "metadata": {},
   "outputs": [],
   "source": [
    "drr_prof.__exit__(None, None, None)\n",
    "rasterize_prof.__exit__(None, None, None)"
   ]
  },
  {
   "cell_type": "code",
   "execution_count": null,
   "metadata": {},
   "outputs": [],
   "source": []
  }
 ],
 "metadata": {
  "kernelspec": {
   "display_name": "deepdrr",
   "language": "python",
   "name": "python3"
  },
  "language_info": {
   "codemirror_mode": {
    "name": "ipython",
    "version": 3
   },
   "file_extension": ".py",
   "mimetype": "text/x-python",
   "name": "python",
   "nbconvert_exporter": "python",
   "pygments_lexer": "ipython3",
   "version": "3.10.12"
  }
 },
 "nbformat": 4,
 "nbformat_minor": 2
}
