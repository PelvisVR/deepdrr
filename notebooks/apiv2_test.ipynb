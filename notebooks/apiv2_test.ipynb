{
 "cells": [
  {
   "cell_type": "code",
   "execution_count": 1,
   "metadata": {},
   "outputs": [],
   "source": [
    "# %load_ext autoreload\n",
    "# %autoreload 2"
   ]
  },
  {
   "cell_type": "code",
   "execution_count": 2,
   "metadata": {},
   "outputs": [],
   "source": [
    "from deepdrr.frontend.frontend import *"
   ]
  },
  {
   "cell_type": "code",
   "execution_count": 8,
   "metadata": {},
   "outputs": [],
   "source": [
    "ft1 = geo.FrameTransform.from_translation([0,0,3])\n",
    "ft2 = geo.FrameTransform.from_translation([2,0,0])\n",
    "v = Volume(ft1, ft2)\n",
    "\n",
    "t = TransformTree()\n",
    "t.add(v)\n"
   ]
  },
  {
   "cell_type": "code",
   "execution_count": 9,
   "metadata": {},
   "outputs": [
    {
     "data": {
      "image/png": "[encoded data removed]",
      "text/plain": [
       "<Figure size 640x480 with 1 Axes>"
      ]
     },
     "metadata": {},
     "output_type": "display_data"
    }
   ],
   "source": [
    "\n",
    "\n",
    "t.draw()"
   ]
  },
  {
   "cell_type": "code",
   "execution_count": 5,
   "metadata": {},
   "outputs": [],
   "source": [
    "t = TransformTree()\n",
    "t2 = TransformTree()"
   ]
  },
  {
   "cell_type": "code",
   "execution_count": 6,
   "metadata": {},
   "outputs": [],
   "source": [
    "n1 = TransformNode(transform=geo.FrameTransform.from_translation([0,0,3]), contents=[\"n1\"])\n",
    "n2 = TransformNode(transform=None, contents=[\"n2\"])\n",
    "n3 = TransformNode(transform=geo.FrameTransform.from_translation([2,0,0]), contents=[\"n3\"])"
   ]
  },
  {
   "cell_type": "code",
   "execution_count": 7,
   "metadata": {},
   "outputs": [
    {
     "name": "stdout",
     "output_type": "stream",
     "text": [
      "isinstance(node, TransformDriver)=False\n",
      "isinstance(node, Renderable)=False\n",
      "isinstance(node, Volume)=False\n",
      "isinstance(node, TransformDriver)=False\n",
      "isinstance(node, Renderable)=False\n",
      "isinstance(node, Volume)=False\n",
      "isinstance(node, TransformDriver)=False\n",
      "isinstance(node, Renderable)=False\n",
      "isinstance(node, Volume)=False\n"
     ]
    }
   ],
   "source": [
    "t.add(n1)\n",
    "n1.add(n2)\n",
    "t.add(n3)"
   ]
  },
  {
   "cell_type": "code",
   "execution_count": 8,
   "metadata": {},
   "outputs": [],
   "source": [
    "t.remove(n1)"
   ]
  },
  {
   "cell_type": "code",
   "execution_count": 9,
   "metadata": {},
   "outputs": [
    {
     "ename": "AttributeError",
     "evalue": "type object 'Mesh' has no attribute 'from_stl'",
     "output_type": "error",
     "traceback": [
      "\u001b[0;31m---------------------------------------------------------------------------\u001b[0m",
      "\u001b[0;31mAttributeError\u001b[0m                            Traceback (most recent call last)",
      "Cell \u001b[0;32mIn[9], line 5\u001b[0m\n\u001b[1;32m      1\u001b[0m \u001b[38;5;28;01mfrom\u001b[39;00m \u001b[38;5;21;01mdeepdrr\u001b[39;00m\u001b[38;5;21;01m.\u001b[39;00m\u001b[38;5;21;01mfrontend\u001b[39;00m\u001b[38;5;21;01m.\u001b[39;00m\u001b[38;5;21;01mrenderer\u001b[39;00m \u001b[38;5;28;01mimport\u001b[39;00m SynchronousRenderer\n\u001b[1;32m      4\u001b[0m volume \u001b[38;5;241m=\u001b[39m Volume\u001b[38;5;241m.\u001b[39mfrom_nrrd(\u001b[38;5;124m\"\u001b[39m\u001b[38;5;124mhu_values.nrrd\u001b[39m\u001b[38;5;124m\"\u001b[39m)\n\u001b[0;32m----> 5\u001b[0m mesh1 \u001b[38;5;241m=\u001b[39m \u001b[43mMesh\u001b[49m\u001b[38;5;241;43m.\u001b[39;49m\u001b[43mfrom_stl\u001b[49m(\u001b[38;5;124m\"\u001b[39m\u001b[38;5;124mmesh1.stl\u001b[39m\u001b[38;5;124m\"\u001b[39m, tag\u001b[38;5;241m=\u001b[39m\u001b[38;5;124m\"\u001b[39m\u001b[38;5;124mmesh1\u001b[39m\u001b[38;5;124m\"\u001b[39m)\n\u001b[1;32m      6\u001b[0m mesh2 \u001b[38;5;241m=\u001b[39m Mesh\u001b[38;5;241m.\u001b[39mfrom_stl(\u001b[38;5;124m\"\u001b[39m\u001b[38;5;124mmesh2.stl\u001b[39m\u001b[38;5;124m\"\u001b[39m, tag\u001b[38;5;241m=\u001b[39m\u001b[38;5;124m\"\u001b[39m\u001b[38;5;124mmesh2\u001b[39m\u001b[38;5;124m\"\u001b[39m)\n\u001b[1;32m      8\u001b[0m carm \u001b[38;5;241m=\u001b[39m MobileCArm()\n",
      "\u001b[0;31mAttributeError\u001b[0m: type object 'Mesh' has no attribute 'from_stl'"
     ]
    }
   ],
   "source": [
    "from deepdrr.frontend.renderer import SynchronousRenderer\n",
    "\n",
    "\n",
    "volume = Volume.from_nrrd(\"hu_values.nrrd\")\n",
    "mesh1 = Mesh.from_stl(\"mesh1.stl\", tag=\"mesh1\")\n",
    "mesh2 = Mesh.from_stl(\"mesh2.stl\", tag=\"mesh2\")\n",
    "\n",
    "carm = MobileCArm()\n",
    "\n",
    "graph = TransformTree()\n",
    "graph.add(carm)\n",
    "graph.add(volume)\n",
    "graph.add(mesh1)\n",
    "graph.add(mesh2)\n",
    "\n",
    "scene = GraphScene(graph)\n",
    "\n",
    "drr_settings = DRRRenderSettings(\n",
    "    width=512,\n",
    "    height=512,\n",
    "    neglog=True,\n",
    ")\n",
    "drr_prof = DRRRenderProfile(\n",
    "    settings=drr_settings,\n",
    "    renderer=SynchronousRenderer(),\n",
    "    scene=scene\n",
    ")\n",
    "\n",
    "rast_settings = RasterizeRenderSettings(\n",
    "    width=512,\n",
    "    height=512,\n",
    "    max_mesh_hits=32,\n",
    ")\n",
    "rasterize_prof = RasterizeRenderProfile(\n",
    "    settings=rast_settings,\n",
    "    renderer=SynchronousRenderer(),\n",
    "    scene=scene\n",
    ")\n",
    "\n",
    "mesh1.world_from_anatomical = geo.FrameTransform.from_translation([-30, 50, 200])\n",
    "\n",
    "for frame_idx in range(10):\n",
    "    mesh2.world_from_anatomical = geo.FrameTransform.from_translation([0, 0, 10*frame_idx])\n",
    "\n",
    "    carm.move_by(\n",
    "        delta_isocenter=[0, 0, 10],\n",
    "        delta_alpha=5*frame_idx,\n",
    "        delta_beta=0,\n",
    "        delta_gamma=0,\n",
    "        degrees=False,\n",
    "    )\n",
    "\n",
    "    drr = drr_prof.render_drr()\n",
    "\n",
    "    segs = rasterize_prof.render_seg()\n",
    "    hits = rasterize_prof.render_hits()\n",
    "\n",
    "\n",
    "    "
   ]
  },
  {
   "cell_type": "code",
   "execution_count": null,
   "metadata": {},
   "outputs": [],
   "source": [
    "a = Primitive(primitive_id=\"a\", data=StlMesh(url=\"file:///home/pelvisvr/datasets/DeepDRR_DATA/CT-chest.nrrd\", material_name=\"material_name\", density=1.0, priority=1, addtive=True, subtractive=True))\n",
    "b = Primitive(primitive_id=\"b\", data=H5Volume(url=\"file:///home/pelvisvr/datasets/DeepDRR_DATA/CT-chest.nrrd\", priority=1))\n",
    "\n",
    "cam = Camera(transform=Matrix4x4(data=np.eye(4).flatten()), intrinsic=CameraIntrinsic(fx=1.0, fy=1.0, cx=0.0, cy=0.0, near=1.0, far=100.0))\n",
    "inst = Instance(primitive_id=\"a\", transform=Matrix4x4(data=np.eye(4).flatten()), morph_weights=[1.0, 2.0, 3.0])\n",
    "frame = Frame(camera=cam, instances=[inst])"
   ]
  },
  {
   "cell_type": "code",
   "execution_count": null,
   "metadata": {},
   "outputs": [],
   "source": [
    "c = Scene(primitives=[a,b], frames=[frame])"
   ]
  },
  {
   "cell_type": "code",
   "execution_count": null,
   "metadata": {},
   "outputs": [],
   "source": [
    "# save to asdf.json\n",
    "\n",
    "with open(\"asdf.json\", \"w\") as f:\n",
    "    f.write(c.model_dump_json(indent=2))"
   ]
  },
  {
   "cell_type": "code",
   "execution_count": null,
   "metadata": {},
   "outputs": [
    {
     "data": {
      "text/plain": [
       "Scene(primitives=[Primitive(primitive_id='a', data=StlMesh(prim_data_type='StlMesh', url=Url('file:///home/pelvisvr/datasets/DeepDRR_DATA/CT-chest.nrrd'), material_name='material_name', density=1.0, priority=1, addtive=True, subtractive=True)), Primitive(primitive_id='b', data=H5Volume(prim_data_type='H5Volume', url=Url('file:///home/pelvisvr/datasets/DeepDRR_DATA/CT-chest.nrrd'), priority=1))], frames=[Frame(camera=Camera(transform=Matrix4x4(data=[1.0, 0.0, 0.0, 0.0, 0.0, 1.0, 0.0, 0.0, 0.0, 0.0, 1.0, 0.0, 0.0, 0.0, 0.0, 1.0]), intrinsic=CameraIntrinsic(fx=1.0, fy=1.0, cx=0.0, cy=0.0, near=1.0, far=100.0)), instances=[Instance(primitive_id='a', transform=Matrix4x4(data=[1.0, 0.0, 0.0, 0.0, 0.0, 1.0, 0.0, 0.0, 0.0, 0.0, 1.0, 0.0, 0.0, 0.0, 0.0, 1.0]), morph_weights=[1.0, 2.0, 3.0])])])"
      ]
     },
     "execution_count": 21,
     "metadata": {},
     "output_type": "execute_result"
    }
   ],
   "source": [
    "# load\n",
    "with open(\"asdf.json\", \"r\") as f:\n",
    "    d = Scene.model_validate_json(f.read())\n",
    "\n",
    "d"
   ]
  },
  {
   "cell_type": "code",
   "execution_count": null,
   "metadata": {},
   "outputs": [
    {
     "data": {
      "text/plain": [
       "'/home/pelvisvr/datasets/DeepDRR_DATA/CT-chest.nrrd'"
      ]
     },
     "execution_count": 23,
     "metadata": {},
     "output_type": "execute_result"
    }
   ],
   "source": [
    "a.data.url.path"
   ]
  },
  {
   "cell_type": "code",
   "execution_count": null,
   "metadata": {},
   "outputs": [
    {
     "name": "stdout",
     "output_type": "stream",
     "text": [
      "42.189103\n"
     ]
    }
   ],
   "source": [
    "import urllib.request\n",
    "\n",
    "o = urllib.request.urlopen(\"file:///home/pelvisvr/datasets/DeepDRR_DATA/CT-chest.nrrd\")\n",
    "\n",
    "asdf = o.read()\n",
    "\n",
    "print(len(asdf) / 1e6)"
   ]
  },
  {
   "cell_type": "code",
   "execution_count": null,
   "metadata": {},
   "outputs": [
    {
     "data": {
      "text/plain": [
       "bytes"
      ]
     },
     "execution_count": 13,
     "metadata": {},
     "output_type": "execute_result"
    }
   ],
   "source": [
    "type(asdf)"
   ]
  }
 ],
 "metadata": {
  "kernelspec": {
   "display_name": "deepdrr",
   "language": "python",
   "name": "python3"
  },
  "language_info": {
   "codemirror_mode": {
    "name": "ipython",
    "version": 3
   },
   "file_extension": ".py",
   "mimetype": "text/x-python",
   "name": "python",
   "nbconvert_exporter": "python",
   "pygments_lexer": "ipython3",
   "version": "3.10.12"
  }
 },
 "nbformat": 4,
 "nbformat_minor": 2
}
