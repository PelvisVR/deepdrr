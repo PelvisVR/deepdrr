{
 "cells": [
  {
   "cell_type": "code",
   "execution_count": 1,
   "metadata": {},
   "outputs": [],
   "source": [
    "%load_ext autoreload\n",
    "%autoreload 2"
   ]
  },
  {
   "cell_type": "code",
   "execution_count": 2,
   "metadata": {},
   "outputs": [],
   "source": [
    "from deepdrr.frontend.frontend import *\n",
    "from deepdrr.utils import test_utils\n",
    "from pydantic_core import Url\n",
    "from deepdrr.frontend.renderer import SynchronousRenderer\n",
    "\n"
   ]
  },
  {
   "cell_type": "code",
   "execution_count": 3,
   "metadata": {},
   "outputs": [
    {
     "name": "stdout",
     "output_type": "stream",
     "text": [
      "Using downloaded and verified file: /home/pelvisvr/datasets/DeepDRR_DATA/CT-chest.nrrd\n"
     ]
    }
   ],
   "source": [
    "f = test_utils.download_sampledata(\"CT-chest\")\n",
    "mf = Path(\"tests/resources/suzanne.stl\")\n",
    "mf2 = Path(\"tests/resources/threads.stl\")"
   ]
  },
  {
   "cell_type": "code",
   "execution_count": 4,
   "metadata": {},
   "outputs": [],
   "source": [
    "volume = Volume.from_nrrd(f)\n"
   ]
  },
  {
   "cell_type": "code",
   "execution_count": 5,
   "metadata": {},
   "outputs": [],
   "source": [
    "mesh1 = Mesh.from_stl(mf, tag=\"mesh1\")\n",
    "mesh2 = Mesh.from_stl(mf2, tag=\"mesh2\")"
   ]
  },
  {
   "cell_type": "code",
   "execution_count": 6,
   "metadata": {},
   "outputs": [
    {
     "data": {
      "text/plain": [
       "<deepdrr.frontend.frontend.MobileCArm at 0x77f343f97be0>"
      ]
     },
     "execution_count": 6,
     "metadata": {},
     "output_type": "execute_result"
    }
   ],
   "source": [
    "carm = MobileCArm()\n",
    "\n",
    "carm"
   ]
  },
  {
   "cell_type": "code",
   "execution_count": 7,
   "metadata": {},
   "outputs": [],
   "source": [
    "\n",
    "graph = TransformTree()\n",
    "graph.add(carm)\n",
    "graph.add(volume)\n",
    "graph.add(mesh1)\n",
    "graph.add(mesh2)\n",
    "\n"
   ]
  },
  {
   "cell_type": "code",
   "execution_count": 8,
   "metadata": {},
   "outputs": [],
   "source": [
    "\n",
    "scene = GraphScene(graph)\n",
    "\n"
   ]
  },
  {
   "cell_type": "code",
   "execution_count": 9,
   "metadata": {},
   "outputs": [],
   "source": [
    "\n",
    "\n",
    "drr_settings = DRRRenderSettings(\n",
    "    width=512,\n",
    "    height=512,\n",
    "    neglog=True,\n",
    ")\n",
    "drr_prof = DRRRenderProfile(\n",
    "    settings=drr_settings,\n",
    "    renderer=SynchronousRenderer(),\n",
    "    scene=scene\n",
    ")\n",
    "\n",
    "rast_settings = RasterizeRenderSettings(\n",
    "    width=512,\n",
    "    height=512,\n",
    "    max_mesh_hits=32,\n",
    ")\n",
    "rasterize_prof = RasterizeRenderProfile(\n",
    "    settings=rast_settings,\n",
    "    renderer=SynchronousRenderer(),\n",
    "    scene=scene\n",
    ")\n",
    "\n"
   ]
  },
  {
   "cell_type": "code",
   "execution_count": 12,
   "metadata": {},
   "outputs": [],
   "source": [
    "\n",
    "mesh1.world_from_anatomical = geo.FrameTransform.from_translation([-30, 50, 200])\n",
    "\n",
    "\n",
    "with drr_prof, rasterize_prof:\n",
    "    for frame_idx in range(10):\n",
    "        mesh2.world_from_anatomical = geo.FrameTransform.from_translation([0, 0, 10*frame_idx])\n",
    "\n",
    "        carm.move_by(\n",
    "            delta_isocenter=[0, 0, 10],\n",
    "            delta_alpha=5*frame_idx,\n",
    "            delta_beta=0,\n",
    "            delta_gamma=0,\n",
    "            degrees=False,\n",
    "        )\n",
    "\n",
    "        drr = drr_prof.render_drr()\n",
    "\n",
    "        segs = rasterize_prof.render_seg()\n",
    "        hits = rasterize_prof.render_hits()\n",
    "\n",
    "\n",
    "    "
   ]
  },
  {
   "cell_type": "code",
   "execution_count": null,
   "metadata": {},
   "outputs": [],
   "source": [
    "a = Primitive(primitive_id=\"a\", data=StlMesh(url=\"file:///home/pelvisvr/datasets/DeepDRR_DATA/CT-chest.nrrd\", material_name=\"material_name\", density=1.0, priority=1, addtive=True, subtractive=True))\n",
    "b = Primitive(primitive_id=\"b\", data=H5Volume(url=\"file:///home/pelvisvr/datasets/DeepDRR_DATA/CT-chest.nrrd\", priority=1))\n",
    "\n",
    "cam = Camera(transform=Matrix4x4(data=np.eye(4).flatten()), intrinsic=RenderCameraIntrinsic(fx=1.0, fy=1.0, cx=0.0, cy=0.0, near=1.0, far=100.0))\n",
    "inst = Instance(primitive_id=\"a\", transform=Matrix4x4(data=np.eye(4).flatten()), morph_weights=[1.0, 2.0, 3.0])\n",
    "frame = Frame(camera=cam, instances=[inst])"
   ]
  },
  {
   "cell_type": "code",
   "execution_count": null,
   "metadata": {},
   "outputs": [],
   "source": [
    "c = Scene(primitives=[a,b], frames=[frame])"
   ]
  },
  {
   "cell_type": "code",
   "execution_count": null,
   "metadata": {},
   "outputs": [],
   "source": [
    "# save to asdf.json\n",
    "\n",
    "with open(\"asdf.json\", \"w\") as f:\n",
    "    f.write(c.model_dump_json(indent=2))"
   ]
  },
  {
   "cell_type": "code",
   "execution_count": null,
   "metadata": {},
   "outputs": [
    {
     "data": {
      "text/plain": [
       "Scene(primitives=[Primitive(primitive_id='a', data=StlMesh(prim_data_type='StlMesh', url=Url('file:///home/pelvisvr/datasets/DeepDRR_DATA/CT-chest.nrrd'), material_name='material_name', density=1.0, priority=1, addtive=True, subtractive=True)), Primitive(primitive_id='b', data=H5Volume(prim_data_type='H5Volume', url=Url('file:///home/pelvisvr/datasets/DeepDRR_DATA/CT-chest.nrrd'), priority=1))], frames=[Frame(camera=Camera(transform=Matrix4x4(data=[1.0, 0.0, 0.0, 0.0, 0.0, 1.0, 0.0, 0.0, 0.0, 0.0, 1.0, 0.0, 0.0, 0.0, 0.0, 1.0]), intrinsic=CameraIntrinsic(fx=1.0, fy=1.0, cx=0.0, cy=0.0, near=1.0, far=100.0)), instances=[Instance(primitive_id='a', transform=Matrix4x4(data=[1.0, 0.0, 0.0, 0.0, 0.0, 1.0, 0.0, 0.0, 0.0, 0.0, 1.0, 0.0, 0.0, 0.0, 0.0, 1.0]), morph_weights=[1.0, 2.0, 3.0])])])"
      ]
     },
     "execution_count": 21,
     "metadata": {},
     "output_type": "execute_result"
    }
   ],
   "source": [
    "# load\n",
    "with open(\"asdf.json\", \"r\") as f:\n",
    "    d = Scene.model_validate_json(f.read())\n",
    "\n",
    "d"
   ]
  },
  {
   "cell_type": "code",
   "execution_count": null,
   "metadata": {},
   "outputs": [
    {
     "data": {
      "text/plain": [
       "'/home/pelvisvr/datasets/DeepDRR_DATA/CT-chest.nrrd'"
      ]
     },
     "execution_count": 23,
     "metadata": {},
     "output_type": "execute_result"
    }
   ],
   "source": [
    "a.data.url.path"
   ]
  },
  {
   "cell_type": "code",
   "execution_count": null,
   "metadata": {},
   "outputs": [
    {
     "name": "stdout",
     "output_type": "stream",
     "text": [
      "42.189103\n"
     ]
    }
   ],
   "source": [
    "import urllib.request\n",
    "\n",
    "o = urllib.request.urlopen(\"file:///home/pelvisvr/datasets/DeepDRR_DATA/CT-chest.nrrd\")\n",
    "\n",
    "asdf = o.read()\n",
    "\n",
    "print(len(asdf) / 1e6)"
   ]
  },
  {
   "cell_type": "code",
   "execution_count": null,
   "metadata": {},
   "outputs": [
    {
     "data": {
      "text/plain": [
       "bytes"
      ]
     },
     "execution_count": 13,
     "metadata": {},
     "output_type": "execute_result"
    }
   ],
   "source": [
    "type(asdf)"
   ]
  }
 ],
 "metadata": {
  "kernelspec": {
   "display_name": "deepdrr",
   "language": "python",
   "name": "python3"
  },
  "language_info": {
   "codemirror_mode": {
    "name": "ipython",
    "version": 3
   },
   "file_extension": ".py",
   "mimetype": "text/x-python",
   "name": "python",
   "nbconvert_exporter": "python",
   "pygments_lexer": "ipython3",
   "version": "3.10.12"
  }
 },
 "nbformat": 4,
 "nbformat_minor": 2
}
