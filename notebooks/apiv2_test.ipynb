{
 "cells": [
  {
   "cell_type": "code",
   "execution_count": 12,
   "metadata": {},
   "outputs": [
    {
     "name": "stdout",
     "output_type": "stream",
     "text": [
      "The autoreload extension is already loaded. To reload it, use:\n",
      "  %reload_ext autoreload\n"
     ]
    }
   ],
   "source": [
    "%load_ext autoreload\n",
    "%autoreload 2"
   ]
  },
  {
   "cell_type": "code",
   "execution_count": 13,
   "metadata": {},
   "outputs": [],
   "source": [
    "from deepdrr.utils import test_utils\n",
    "from deepdrr.frontend.frontend import *\n",
    "from deepdrr.frontend.renderer import *\n",
    "from deepdrr.frontend.profiles import *\n"
   ]
  },
  {
   "cell_type": "code",
   "execution_count": 14,
   "metadata": {},
   "outputs": [
    {
     "name": "stdout",
     "output_type": "stream",
     "text": [
      "Using downloaded and verified file: /home/pelvisvr/datasets/DeepDRR_DATA/CT-chest.nrrd\n",
      "/home/pelvisvr/datasets/DeepDRR_DATA/CT-chest.nrrd\n"
     ]
    }
   ],
   "source": [
    "f = test_utils.download_sampledata(\"CT-chest\")\n",
    "mf = Path(\"tests/resources/suzanne.stl\")\n",
    "mf2 = Path(\"tests/resources/threads.stl\")\n",
    "print(f)"
   ]
  },
  {
   "cell_type": "code",
   "execution_count": 15,
   "metadata": {},
   "outputs": [],
   "source": [
    "volume = Volume.from_nrrd(f)\n",
    "\n",
    "mesh1 = Mesh.from_stl(mf, tag=\"mesh1\")\n",
    "mesh2 = Mesh.from_stl(mf2, tag=\"mesh2\")\n",
    "\n",
    "carm = MobileCArm()\n",
    "\n",
    "graph = TransformTree()\n",
    "graph.add(carm)\n",
    "graph.add(volume)\n",
    "graph.add(mesh1)\n",
    "graph.add(mesh2)\n",
    "\n",
    "scene = GraphScene(graph)\n",
    "\n",
    "drr_json_path = Path(\"drr.json\")\n",
    "\n",
    "drr_settings = DRRRenderSettings(\n",
    "    width=512,\n",
    "    height=512,\n",
    "    neglog=True,\n",
    ")\n",
    "drr_prof = DRRRenderProfile(\n",
    "    settings=drr_settings,\n",
    "    renderer=DeferredRenderer(drr_json_path),\n",
    "    # renderer=SynchronousRenderer(),\n",
    "    scene=scene\n",
    ")\n",
    "\n",
    "rast_settings = RasterizeRenderSettings(\n",
    "    width=512,\n",
    "    height=512,\n",
    "    max_mesh_hits=32,\n",
    ")\n",
    "rasterize_prof = RasterizeRenderProfile(\n",
    "    settings=rast_settings,\n",
    "    renderer=SynchronousRenderer(),\n",
    "    scene=scene\n",
    ")\n",
    "\n"
   ]
  },
  {
   "cell_type": "code",
   "execution_count": 23,
   "metadata": {},
   "outputs": [],
   "source": [
    "\n",
    "mesh1.world_from_anatomical = geo.FrameTransform.from_translation([-30, 50, 200])\n",
    "\n",
    "\n",
    "with drr_prof, rasterize_prof:\n",
    "    for frame_idx in range(10):\n",
    "        mesh2.world_from_anatomical = geo.FrameTransform.from_translation([0, 0, 10*frame_idx])\n",
    "\n",
    "        carm.move_by(\n",
    "            delta_isocenter=[0, 0, 10],\n",
    "            delta_alpha=5*frame_idx,\n",
    "            delta_beta=0,\n",
    "            delta_gamma=0,\n",
    "            degrees=False,\n",
    "        )\n",
    "\n",
    "        drr = drr_prof.render_drr()\n",
    "\n",
    "        segs = rasterize_prof.render_seg()\n",
    "        hits = rasterize_prof.render_hits()\n",
    "\n",
    "\n",
    "    "
   ]
  },
  {
   "cell_type": "code",
   "execution_count": 22,
   "metadata": {},
   "outputs": [
    {
     "ename": "TypeError",
     "evalue": "StlMesh.__init__() missing 1 required positional argument: 'path'",
     "output_type": "error",
     "traceback": [
      "\u001b[0;31m---------------------------------------------------------------------------\u001b[0m",
      "\u001b[0;31mTypeError\u001b[0m                                 Traceback (most recent call last)",
      "Cell \u001b[0;32mIn[22], line 1\u001b[0m\n\u001b[0;32m----> 1\u001b[0m a \u001b[38;5;241m=\u001b[39m Primitive(primitive_id\u001b[38;5;241m=\u001b[39m\u001b[38;5;124m\"\u001b[39m\u001b[38;5;124ma\u001b[39m\u001b[38;5;124m\"\u001b[39m, data\u001b[38;5;241m=\u001b[39m\u001b[43mStlMesh\u001b[49m\u001b[43m(\u001b[49m\u001b[43murl\u001b[49m\u001b[38;5;241;43m=\u001b[39;49m\u001b[38;5;124;43m\"\u001b[39;49m\u001b[38;5;124;43mfile:///home/pelvisvr/datasets/DeepDRR_DATA/CT-chest.nrrd\u001b[39;49m\u001b[38;5;124;43m\"\u001b[39;49m\u001b[43m,\u001b[49m\u001b[43m \u001b[49m\u001b[43mmaterial_name\u001b[49m\u001b[38;5;241;43m=\u001b[39;49m\u001b[38;5;124;43m\"\u001b[39;49m\u001b[38;5;124;43mmaterial_name\u001b[39;49m\u001b[38;5;124;43m\"\u001b[39;49m\u001b[43m,\u001b[49m\u001b[43m \u001b[49m\u001b[43mdensity\u001b[49m\u001b[38;5;241;43m=\u001b[39;49m\u001b[38;5;241;43m1.0\u001b[39;49m\u001b[43m,\u001b[49m\u001b[43m \u001b[49m\u001b[43mpriority\u001b[49m\u001b[38;5;241;43m=\u001b[39;49m\u001b[38;5;241;43m1\u001b[39;49m\u001b[43m,\u001b[49m\u001b[43m \u001b[49m\u001b[43maddtive\u001b[49m\u001b[38;5;241;43m=\u001b[39;49m\u001b[38;5;28;43;01mTrue\u001b[39;49;00m\u001b[43m,\u001b[49m\u001b[43m \u001b[49m\u001b[43msubtractive\u001b[49m\u001b[38;5;241;43m=\u001b[39;49m\u001b[38;5;28;43;01mTrue\u001b[39;49;00m\u001b[43m)\u001b[49m)\n\u001b[1;32m      2\u001b[0m b \u001b[38;5;241m=\u001b[39m Primitive(primitive_id\u001b[38;5;241m=\u001b[39m\u001b[38;5;124m\"\u001b[39m\u001b[38;5;124mb\u001b[39m\u001b[38;5;124m\"\u001b[39m, data\u001b[38;5;241m=\u001b[39mH5Volume(url\u001b[38;5;241m=\u001b[39m\u001b[38;5;124m\"\u001b[39m\u001b[38;5;124mfile:///home/pelvisvr/datasets/DeepDRR_DATA/CT-chest.nrrd\u001b[39m\u001b[38;5;124m\"\u001b[39m, priority\u001b[38;5;241m=\u001b[39m\u001b[38;5;241m1\u001b[39m))\n\u001b[1;32m      4\u001b[0m cam \u001b[38;5;241m=\u001b[39m Camera(transform\u001b[38;5;241m=\u001b[39mMatrix4x4(data\u001b[38;5;241m=\u001b[39mnp\u001b[38;5;241m.\u001b[39meye(\u001b[38;5;241m4\u001b[39m)\u001b[38;5;241m.\u001b[39mflatten()), intrinsic\u001b[38;5;241m=\u001b[39mRenderCameraIntrinsic(fx\u001b[38;5;241m=\u001b[39m\u001b[38;5;241m1.0\u001b[39m, fy\u001b[38;5;241m=\u001b[39m\u001b[38;5;241m1.0\u001b[39m, cx\u001b[38;5;241m=\u001b[39m\u001b[38;5;241m0.0\u001b[39m, cy\u001b[38;5;241m=\u001b[39m\u001b[38;5;241m0.0\u001b[39m, near\u001b[38;5;241m=\u001b[39m\u001b[38;5;241m1.0\u001b[39m, far\u001b[38;5;241m=\u001b[39m\u001b[38;5;241m100.0\u001b[39m))\n",
      "\u001b[0;31mTypeError\u001b[0m: StlMesh.__init__() missing 1 required positional argument: 'path'"
     ]
    }
   ],
   "source": [
    "a = Primitive(primitive_id=\"a\", data=StlMesh(url=\"file:///home/pelvisvr/datasets/DeepDRR_DATA/CT-chest.nrrd\", material_name=\"material_name\", density=1.0, priority=1, addtive=True, subtractive=True))\n",
    "b = Primitive(primitive_id=\"b\", data=H5Volume(url=\"file:///home/pelvisvr/datasets/DeepDRR_DATA/CT-chest.nrrd\", priority=1))\n",
    "\n",
    "cam = Camera(transform=Matrix4x4(data=np.eye(4).flatten()), intrinsic=RenderCameraIntrinsic(fx=1.0, fy=1.0, cx=0.0, cy=0.0, near=1.0, far=100.0))\n",
    "inst = Instance(primitive_id=\"a\", transform=Matrix4x4(data=np.eye(4).flatten()), morph_weights=[1.0, 2.0, 3.0])\n",
    "frame = Frame(camera=cam, instances=[inst])"
   ]
  },
  {
   "cell_type": "code",
   "execution_count": null,
   "metadata": {},
   "outputs": [],
   "source": [
    "c = Scene(primitives=[a,b], frames=[frame])"
   ]
  },
  {
   "cell_type": "code",
   "execution_count": null,
   "metadata": {},
   "outputs": [],
   "source": [
    "# save to asdf.json\n",
    "\n",
    "with open(\"asdf.json\", \"w\") as f:\n",
    "    f.write(c.model_dump_json(indent=2))"
   ]
  },
  {
   "cell_type": "code",
   "execution_count": null,
   "metadata": {},
   "outputs": [
    {
     "data": {
      "text/plain": [
       "Scene(primitives=[Primitive(primitive_id='a', data=StlMesh(prim_data_type='StlMesh', url=Url('file:///home/pelvisvr/datasets/DeepDRR_DATA/CT-chest.nrrd'), material_name='material_name', density=1.0, priority=1, addtive=True, subtractive=True)), Primitive(primitive_id='b', data=H5Volume(prim_data_type='H5Volume', url=Url('file:///home/pelvisvr/datasets/DeepDRR_DATA/CT-chest.nrrd'), priority=1))], frames=[Frame(camera=Camera(transform=Matrix4x4(data=[1.0, 0.0, 0.0, 0.0, 0.0, 1.0, 0.0, 0.0, 0.0, 0.0, 1.0, 0.0, 0.0, 0.0, 0.0, 1.0]), intrinsic=CameraIntrinsic(fx=1.0, fy=1.0, cx=0.0, cy=0.0, near=1.0, far=100.0)), instances=[Instance(primitive_id='a', transform=Matrix4x4(data=[1.0, 0.0, 0.0, 0.0, 0.0, 1.0, 0.0, 0.0, 0.0, 0.0, 1.0, 0.0, 0.0, 0.0, 0.0, 1.0]), morph_weights=[1.0, 2.0, 3.0])])])"
      ]
     },
     "execution_count": 21,
     "metadata": {},
     "output_type": "execute_result"
    }
   ],
   "source": [
    "# load\n",
    "with open(\"asdf.json\", \"r\") as f:\n",
    "    d = Scene.model_validate_json(f.read())\n",
    "\n",
    "d"
   ]
  },
  {
   "cell_type": "code",
   "execution_count": null,
   "metadata": {},
   "outputs": [
    {
     "data": {
      "text/plain": [
       "'/home/pelvisvr/datasets/DeepDRR_DATA/CT-chest.nrrd'"
      ]
     },
     "execution_count": 23,
     "metadata": {},
     "output_type": "execute_result"
    }
   ],
   "source": [
    "a.data.url.path"
   ]
  },
  {
   "cell_type": "code",
   "execution_count": null,
   "metadata": {},
   "outputs": [
    {
     "name": "stdout",
     "output_type": "stream",
     "text": [
      "42.189103\n"
     ]
    }
   ],
   "source": [
    "import urllib.request\n",
    "\n",
    "o = urllib.request.urlopen(\"file:///home/pelvisvr/datasets/DeepDRR_DATA/CT-chest.nrrd\")\n",
    "\n",
    "asdf = o.read()\n",
    "\n",
    "print(len(asdf) / 1e6)"
   ]
  },
  {
   "cell_type": "code",
   "execution_count": null,
   "metadata": {},
   "outputs": [
    {
     "data": {
      "text/plain": [
       "bytes"
      ]
     },
     "execution_count": 13,
     "metadata": {},
     "output_type": "execute_result"
    }
   ],
   "source": [
    "type(asdf)"
   ]
  }
 ],
 "metadata": {
  "kernelspec": {
   "display_name": "deepdrr",
   "language": "python",
   "name": "python3"
  },
  "language_info": {
   "codemirror_mode": {
    "name": "ipython",
    "version": 3
   },
   "file_extension": ".py",
   "mimetype": "text/x-python",
   "name": "python",
   "nbconvert_exporter": "python",
   "pygments_lexer": "ipython3",
   "version": "3.10.12"
  }
 },
 "nbformat": 4,
 "nbformat_minor": 2
}
