{
 "cells": [
  {
   "cell_type": "code",
   "execution_count": 4,
   "metadata": {},
   "outputs": [
    {
     "name": "stdout",
     "output_type": "stream",
     "text": [
      "The autoreload extension is already loaded. To reload it, use:\n",
      "  %reload_ext autoreload\n"
     ]
    }
   ],
   "source": [
    "%load_ext autoreload\n",
    "%autoreload 2"
   ]
  },
  {
   "cell_type": "code",
   "execution_count": 17,
   "metadata": {},
   "outputs": [],
   "source": [
    "from deepdrr.frontend.frontend import *\n",
    "from deepdrr.utils import test_utils\n",
    "from pydantic_core import Url\n",
    "\n"
   ]
  },
  {
   "cell_type": "code",
   "execution_count": 18,
   "metadata": {},
   "outputs": [
    {
     "name": "stdout",
     "output_type": "stream",
     "text": [
      "Using downloaded and verified file: /home/pelvisvr/datasets/DeepDRR_DATA/CT-chest.nrrd\n"
     ]
    },
    {
     "data": {
      "text/plain": [
       "PosixPath('/home/pelvisvr/datasets/DeepDRR_DATA/CT-chest.nrrd')"
      ]
     },
     "execution_count": 18,
     "metadata": {},
     "output_type": "execute_result"
    }
   ],
   "source": [
    "f = test_utils.download_sampledata(\"CT-chest\")\n",
    "f"
   ]
  },
  {
   "cell_type": "code",
   "execution_count": 19,
   "metadata": {},
   "outputs": [
    {
     "ename": "TypeError",
     "evalue": "MemoryVolume() takes no arguments",
     "output_type": "error",
     "traceback": [
      "\u001b[0;31m---------------------------------------------------------------------------\u001b[0m",
      "\u001b[0;31mTypeError\u001b[0m                                 Traceback (most recent call last)",
      "Cell \u001b[0;32mIn[19], line 1\u001b[0m\n\u001b[0;32m----> 1\u001b[0m volume \u001b[38;5;241m=\u001b[39m \u001b[43mVolume\u001b[49m\u001b[38;5;241;43m.\u001b[39;49m\u001b[43mfrom_nrrd\u001b[49m\u001b[43m(\u001b[49m\u001b[43mf\u001b[49m\u001b[43m)\u001b[49m\n",
      "File \u001b[0;32m~/repos/deepdrr/deepdrr/frontend/frontend.py:288\u001b[0m, in \u001b[0;36mVolume.from_nrrd\u001b[0;34m(cls, path, h5_path)\u001b[0m\n\u001b[1;32m    283\u001b[0m data, materials, anatomical_from_IJK, anatomical_coordinate_system \u001b[38;5;241m=\u001b[39m load_nrrd(\n\u001b[1;32m    284\u001b[0m     path\n\u001b[1;32m    285\u001b[0m )\n\u001b[1;32m    287\u001b[0m \u001b[38;5;66;03m# create a MemoryVolume from the nrrd file\u001b[39;00m\n\u001b[0;32m--> 288\u001b[0m volume \u001b[38;5;241m=\u001b[39m \u001b[43mMemoryVolume\u001b[49m\u001b[43m(\u001b[49m\n\u001b[1;32m    289\u001b[0m \u001b[43m    \u001b[49m\u001b[43mdata\u001b[49m\u001b[38;5;241;43m=\u001b[39;49m\u001b[43mdata\u001b[49m\u001b[43m,\u001b[49m\n\u001b[1;32m    290\u001b[0m \u001b[43m    \u001b[49m\u001b[43mmaterials\u001b[49m\u001b[38;5;241;43m=\u001b[39;49m\u001b[43mmaterials\u001b[49m\u001b[43m,\u001b[49m\n\u001b[1;32m    291\u001b[0m \u001b[43m    \u001b[49m\u001b[43manatomical_coordinate_system\u001b[49m\u001b[38;5;241;43m=\u001b[39;49m\u001b[43manatomical_coordinate_system\u001b[49m\u001b[43m,\u001b[49m\n\u001b[1;32m    292\u001b[0m \u001b[43m    \u001b[49m\u001b[43mserialize_path\u001b[49m\u001b[38;5;241;43m=\u001b[39;49m\u001b[43mh5_path\u001b[49m\u001b[43m,\u001b[49m\n\u001b[1;32m    293\u001b[0m \u001b[43m\u001b[49m\u001b[43m)\u001b[49m\n\u001b[1;32m    295\u001b[0m \u001b[38;5;28;01mreturn\u001b[39;00m \u001b[38;5;28mcls\u001b[39m(\n\u001b[1;32m    296\u001b[0m     anatomical_from_IJK\u001b[38;5;241m=\u001b[39manatomical_from_IJK,\n\u001b[1;32m    297\u001b[0m     world_from_anatomical\u001b[38;5;241m=\u001b[39mgeo\u001b[38;5;241m.\u001b[39mFrameTransform\u001b[38;5;241m.\u001b[39midentity(),\n\u001b[1;32m    298\u001b[0m     volume\u001b[38;5;241m=\u001b[39mvolume,\n\u001b[1;32m    299\u001b[0m )\n",
      "\u001b[0;31mTypeError\u001b[0m: MemoryVolume() takes no arguments"
     ]
    }
   ],
   "source": [
    "volume = Volume.from_nrrd(f)\n"
   ]
  },
  {
   "cell_type": "code",
   "execution_count": 5,
   "metadata": {},
   "outputs": [],
   "source": [
    "ft1 = geo.FrameTransform.from_translation([0,0,3])\n",
    "ft2 = geo.FrameTransform.from_translation([2,0,0])\n",
    "v = Volume(ft1, ft2)\n",
    "\n",
    "t = TransformTree()\n",
    "t.add(v)\n"
   ]
  },
  {
   "cell_type": "code",
   "execution_count": 6,
   "metadata": {},
   "outputs": [],
   "source": [
    "v.world_from_anatomical = geo.FrameTransform.from_translation([0,0,0])"
   ]
  },
  {
   "cell_type": "code",
   "execution_count": 7,
   "metadata": {},
   "outputs": [
    {
     "name": "stdout",
     "output_type": "stream",
     "text": [
      "aaf4c61ddcc5e8a2dabede0f3b482cd9aea9434d\n"
     ]
    }
   ],
   "source": [
    "import hashlib\n",
    "m = hashlib.sha1()\n",
    "m.update(\"hello\".encode())\n",
    "print(m.hexdigest())"
   ]
  },
  {
   "cell_type": "code",
   "execution_count": 8,
   "metadata": {},
   "outputs": [
    {
     "data": {
      "text/plain": [
       "FrameTransform(  [[1. 0. 0. 2.]\n",
       "   [0. 1. 0. 0.]\n",
       "   [0. 0. 1. 0.]\n",
       "   [0. 0. 0. 1.]])"
      ]
     },
     "execution_count": 8,
     "metadata": {},
     "output_type": "execute_result"
    }
   ],
   "source": [
    "t.get_transform(t, v._node_ijk)"
   ]
  },
  {
   "cell_type": "code",
   "execution_count": 9,
   "metadata": {},
   "outputs": [
    {
     "data": {
      "image/png": "[encoded data removed]",
      "text/plain": [
       "<Figure size 640x480 with 1 Axes>"
      ]
     },
     "metadata": {},
     "output_type": "display_data"
    }
   ],
   "source": [
    "\n",
    "\n",
    "t.draw()"
   ]
  },
  {
   "cell_type": "code",
   "execution_count": 10,
   "metadata": {},
   "outputs": [],
   "source": [
    "t = TransformTree()\n",
    "t2 = TransformTree()"
   ]
  },
  {
   "cell_type": "code",
   "execution_count": 11,
   "metadata": {},
   "outputs": [],
   "source": [
    "n1 = TransformNode(transform=geo.FrameTransform.from_translation([0,0,3]), contents=[\"n1\"])\n",
    "n2 = TransformNode(transform=None, contents=[\"n2\"])\n",
    "n3 = TransformNode(transform=geo.FrameTransform.from_translation([2,0,0]), contents=[\"n3\"])"
   ]
  },
  {
   "cell_type": "code",
   "execution_count": 12,
   "metadata": {},
   "outputs": [],
   "source": [
    "t.add(n1)\n",
    "n1.add(n2)\n",
    "t.add(n3)"
   ]
  },
  {
   "cell_type": "code",
   "execution_count": 13,
   "metadata": {},
   "outputs": [],
   "source": [
    "t.remove(n1)"
   ]
  },
  {
   "cell_type": "code",
   "execution_count": 14,
   "metadata": {},
   "outputs": [
    {
     "ename": "FileNotFoundError",
     "evalue": "[Errno 2] No such file or directory: 'hu_values.nrrd'",
     "output_type": "error",
     "traceback": [
      "\u001b[0;31m---------------------------------------------------------------------------\u001b[0m",
      "\u001b[0;31mFileNotFoundError\u001b[0m                         Traceback (most recent call last)",
      "Cell \u001b[0;32mIn[14], line 4\u001b[0m\n\u001b[1;32m      1\u001b[0m \u001b[38;5;28;01mfrom\u001b[39;00m \u001b[38;5;21;01mdeepdrr\u001b[39;00m\u001b[38;5;21;01m.\u001b[39;00m\u001b[38;5;21;01mfrontend\u001b[39;00m\u001b[38;5;21;01m.\u001b[39;00m\u001b[38;5;21;01mrenderer\u001b[39;00m \u001b[38;5;28;01mimport\u001b[39;00m SynchronousRenderer\n\u001b[0;32m----> 4\u001b[0m volume \u001b[38;5;241m=\u001b[39m \u001b[43mVolume\u001b[49m\u001b[38;5;241;43m.\u001b[39;49m\u001b[43mfrom_nrrd\u001b[49m\u001b[43m(\u001b[49m\u001b[38;5;124;43m\"\u001b[39;49m\u001b[38;5;124;43mhu_values.nrrd\u001b[39;49m\u001b[38;5;124;43m\"\u001b[39;49m\u001b[43m)\u001b[49m\n\u001b[1;32m      5\u001b[0m mesh1 \u001b[38;5;241m=\u001b[39m Mesh\u001b[38;5;241m.\u001b[39mfrom_stl(\u001b[38;5;124m\"\u001b[39m\u001b[38;5;124mmesh1.stl\u001b[39m\u001b[38;5;124m\"\u001b[39m, tag\u001b[38;5;241m=\u001b[39m\u001b[38;5;124m\"\u001b[39m\u001b[38;5;124mmesh1\u001b[39m\u001b[38;5;124m\"\u001b[39m)\n\u001b[1;32m      6\u001b[0m mesh2 \u001b[38;5;241m=\u001b[39m Mesh\u001b[38;5;241m.\u001b[39mfrom_stl(\u001b[38;5;124m\"\u001b[39m\u001b[38;5;124mmesh2.stl\u001b[39m\u001b[38;5;124m\"\u001b[39m, tag\u001b[38;5;241m=\u001b[39m\u001b[38;5;124m\"\u001b[39m\u001b[38;5;124mmesh2\u001b[39m\u001b[38;5;124m\"\u001b[39m)\n",
      "File \u001b[0;32m~/repos/deepdrr/deepdrr/frontend/transform_manager.py:102\u001b[0m, in \u001b[0;36mVolume.from_nrrd\u001b[0;34m(cls, path, h5_path)\u001b[0m\n\u001b[1;32m    100\u001b[0m \u001b[38;5;129m@classmethod\u001b[39m\n\u001b[1;32m    101\u001b[0m \u001b[38;5;28;01mdef\u001b[39;00m \u001b[38;5;21mfrom_nrrd\u001b[39m(\u001b[38;5;28mcls\u001b[39m, path: \u001b[38;5;28mstr\u001b[39m, h5_path: \u001b[38;5;28mstr\u001b[39m \u001b[38;5;241m=\u001b[39m \u001b[38;5;28;01mNone\u001b[39;00m):\n\u001b[0;32m--> 102\u001b[0m     saved_path \u001b[38;5;241m=\u001b[39m \u001b[43msave_or_cache_file\u001b[49m\u001b[43m(\u001b[49m\u001b[43mh5_path\u001b[49m\u001b[43m,\u001b[49m\u001b[43m \u001b[49m\u001b[38;5;28;43;01mlambda\u001b[39;49;00m\u001b[43m \u001b[49m\u001b[43mx\u001b[49m\u001b[43m:\u001b[49m\u001b[43m \u001b[49m\u001b[43mh5_from_nrrd\u001b[49m\u001b[43m(\u001b[49m\u001b[43mpath\u001b[49m\u001b[43m,\u001b[49m\u001b[43m \u001b[49m\u001b[43mx\u001b[49m\u001b[43m)\u001b[49m\u001b[43m)\u001b[49m\n\u001b[1;32m    104\u001b[0m     \u001b[38;5;28;01mif\u001b[39;00m h5_path \u001b[38;5;129;01mis\u001b[39;00m \u001b[38;5;28;01mNone\u001b[39;00m:\n\u001b[1;32m    105\u001b[0m         log\u001b[38;5;241m.\u001b[39minfo(\u001b[38;5;124mf\u001b[39m\u001b[38;5;124m\"\u001b[39m\u001b[38;5;124mSaved H5 file to \u001b[39m\u001b[38;5;132;01m{\u001b[39;00msaved_path\u001b[38;5;132;01m}\u001b[39;00m\u001b[38;5;124m\"\u001b[39m)\n",
      "File \u001b[0;32m~/repos/deepdrr/deepdrr/frontend/transform_manager.py:124\u001b[0m, in \u001b[0;36msave_or_cache_file\u001b[0;34m(path, func)\u001b[0m\n\u001b[1;32m    122\u001b[0m \u001b[38;5;28;01mdef\u001b[39;00m \u001b[38;5;21msave_or_cache_file\u001b[39m(path: \u001b[38;5;28mstr\u001b[39m, func: Callable[[\u001b[38;5;28mstr\u001b[39m], \u001b[38;5;28;01mNone\u001b[39;00m]) \u001b[38;5;241m-\u001b[39m\u001b[38;5;241m>\u001b[39m \u001b[38;5;28mstr\u001b[39m:\n\u001b[1;32m    123\u001b[0m     \u001b[38;5;28;01mwith\u001b[39;00m tempfile\u001b[38;5;241m.\u001b[39mNamedTemporaryFile() \u001b[38;5;28;01mas\u001b[39;00m f:\n\u001b[0;32m--> 124\u001b[0m         \u001b[43mfunc\u001b[49m\u001b[43m(\u001b[49m\u001b[43mf\u001b[49m\u001b[38;5;241;43m.\u001b[39;49m\u001b[43mname\u001b[49m\u001b[43m)\u001b[49m\n\u001b[1;32m    126\u001b[0m         \u001b[38;5;28;01mif\u001b[39;00m path \u001b[38;5;129;01mis\u001b[39;00m \u001b[38;5;129;01mnot\u001b[39;00m \u001b[38;5;28;01mNone\u001b[39;00m:\n\u001b[1;32m    127\u001b[0m             shutil\u001b[38;5;241m.\u001b[39mremove(path)\n",
      "File \u001b[0;32m~/repos/deepdrr/deepdrr/frontend/transform_manager.py:102\u001b[0m, in \u001b[0;36mVolume.from_nrrd.<locals>.<lambda>\u001b[0;34m(x)\u001b[0m\n\u001b[1;32m    100\u001b[0m \u001b[38;5;129m@classmethod\u001b[39m\n\u001b[1;32m    101\u001b[0m \u001b[38;5;28;01mdef\u001b[39;00m \u001b[38;5;21mfrom_nrrd\u001b[39m(\u001b[38;5;28mcls\u001b[39m, path: \u001b[38;5;28mstr\u001b[39m, h5_path: \u001b[38;5;28mstr\u001b[39m \u001b[38;5;241m=\u001b[39m \u001b[38;5;28;01mNone\u001b[39;00m):\n\u001b[0;32m--> 102\u001b[0m     saved_path \u001b[38;5;241m=\u001b[39m save_or_cache_file(h5_path, \u001b[38;5;28;01mlambda\u001b[39;00m x: \u001b[43mh5_from_nrrd\u001b[49m\u001b[43m(\u001b[49m\u001b[43mpath\u001b[49m\u001b[43m,\u001b[49m\u001b[43m \u001b[49m\u001b[43mx\u001b[49m\u001b[43m)\u001b[49m)\n\u001b[1;32m    104\u001b[0m     \u001b[38;5;28;01mif\u001b[39;00m h5_path \u001b[38;5;129;01mis\u001b[39;00m \u001b[38;5;28;01mNone\u001b[39;00m:\n\u001b[1;32m    105\u001b[0m         log\u001b[38;5;241m.\u001b[39minfo(\u001b[38;5;124mf\u001b[39m\u001b[38;5;124m\"\u001b[39m\u001b[38;5;124mSaved H5 file to \u001b[39m\u001b[38;5;132;01m{\u001b[39;00msaved_path\u001b[38;5;132;01m}\u001b[39;00m\u001b[38;5;124m\"\u001b[39m)\n",
      "File \u001b[0;32m~/repos/deepdrr/deepdrr/frontend/volume_processing.py:107\u001b[0m, in \u001b[0;36mh5_from_nrrd\u001b[0;34m(nrrd_path, h5_path, use_thresholding)\u001b[0m\n\u001b[1;32m    104\u001b[0m nrrd_path \u001b[38;5;241m=\u001b[39m Path(nrrd_path)\n\u001b[1;32m    105\u001b[0m h5_path \u001b[38;5;241m=\u001b[39m Path(h5_path)\n\u001b[0;32m--> 107\u001b[0m hu_values, header \u001b[38;5;241m=\u001b[39m \u001b[43mnrrd\u001b[49m\u001b[38;5;241;43m.\u001b[39;49m\u001b[43mread\u001b[49m\u001b[43m(\u001b[49m\u001b[43mnrrd_path\u001b[49m\u001b[43m)\u001b[49m\n\u001b[1;32m    109\u001b[0m anatomical_from_IJK, anatomical_coordinate_system \u001b[38;5;241m=\u001b[39m parse_nrrd_header(header)\n\u001b[1;32m    111\u001b[0m data \u001b[38;5;241m=\u001b[39m _convert_hounsfield_to_density(hu_values)\n",
      "File \u001b[0;32m~/mambaforge/envs/deepdrr/lib/python3.10/site-packages/nrrd/reader.py:515\u001b[0m, in \u001b[0;36mread\u001b[0;34m(filename, custom_field_map, index_order)\u001b[0m\n\u001b[1;32m    480\u001b[0m \u001b[38;5;28;01mdef\u001b[39;00m \u001b[38;5;21mread\u001b[39m(filename: \u001b[38;5;28mstr\u001b[39m, custom_field_map: Optional[NRRDFieldMap] \u001b[38;5;241m=\u001b[39m \u001b[38;5;28;01mNone\u001b[39;00m, index_order: IndexOrder \u001b[38;5;241m=\u001b[39m \u001b[38;5;124m'\u001b[39m\u001b[38;5;124mF\u001b[39m\u001b[38;5;124m'\u001b[39m) \\\n\u001b[1;32m    481\u001b[0m         \u001b[38;5;241m-\u001b[39m\u001b[38;5;241m>\u001b[39m Tuple[npt\u001b[38;5;241m.\u001b[39mNDArray, NRRDHeader]:\n\u001b[1;32m    482\u001b[0m \u001b[38;5;250m    \u001b[39m\u001b[38;5;124;03m\"\"\"Read a NRRD file and return the header and data\u001b[39;00m\n\u001b[1;32m    483\u001b[0m \n\u001b[1;32m    484\u001b[0m \u001b[38;5;124;03m    See :ref:`background/how-to-use:reading nrrd files` for more information on reading NRRD files.\u001b[39;00m\n\u001b[0;32m   (...)\u001b[0m\n\u001b[1;32m    512\u001b[0m \u001b[38;5;124;03m    :meth:`write`, :meth:`read_header`, :meth:`read_data`\u001b[39;00m\n\u001b[1;32m    513\u001b[0m \u001b[38;5;124;03m    \"\"\"\u001b[39;00m\n\u001b[0;32m--> 515\u001b[0m     \u001b[38;5;28;01mwith\u001b[39;00m \u001b[38;5;28;43mopen\u001b[39;49m\u001b[43m(\u001b[49m\u001b[43mfilename\u001b[49m\u001b[43m,\u001b[49m\u001b[43m \u001b[49m\u001b[38;5;124;43m'\u001b[39;49m\u001b[38;5;124;43mrb\u001b[39;49m\u001b[38;5;124;43m'\u001b[39;49m\u001b[43m)\u001b[49m \u001b[38;5;28;01mas\u001b[39;00m fh:\n\u001b[1;32m    516\u001b[0m         header \u001b[38;5;241m=\u001b[39m read_header(fh, custom_field_map)\n\u001b[1;32m    517\u001b[0m         data \u001b[38;5;241m=\u001b[39m read_data(header, fh, filename, index_order)\n",
      "\u001b[0;31mFileNotFoundError\u001b[0m: [Errno 2] No such file or directory: 'hu_values.nrrd'"
     ]
    }
   ],
   "source": [
    "from deepdrr.frontend.renderer import SynchronousRenderer\n",
    "\n",
    "\n",
    "volume = Volume.from_nrrd(\"hu_values.nrrd\")\n",
    "mesh1 = Mesh.from_stl(\"mesh1.stl\", tag=\"mesh1\")\n",
    "mesh2 = Mesh.from_stl(\"mesh2.stl\", tag=\"mesh2\")\n",
    "\n",
    "carm = MobileCArm()\n",
    "\n",
    "graph = TransformTree()\n",
    "graph.add(carm)\n",
    "graph.add(volume)\n",
    "graph.add(mesh1)\n",
    "graph.add(mesh2)\n",
    "\n",
    "scene = GraphScene(graph)\n",
    "\n",
    "drr_settings = DRRRenderSettings(\n",
    "    width=512,\n",
    "    height=512,\n",
    "    neglog=True,\n",
    ")\n",
    "drr_prof = DRRRenderProfile(\n",
    "    settings=drr_settings,\n",
    "    renderer=SynchronousRenderer(),\n",
    "    scene=scene\n",
    ")\n",
    "\n",
    "rast_settings = RasterizeRenderSettings(\n",
    "    width=512,\n",
    "    height=512,\n",
    "    max_mesh_hits=32,\n",
    ")\n",
    "rasterize_prof = RasterizeRenderProfile(\n",
    "    settings=rast_settings,\n",
    "    renderer=SynchronousRenderer(),\n",
    "    scene=scene\n",
    ")\n",
    "\n",
    "mesh1.world_from_anatomical = geo.FrameTransform.from_translation([-30, 50, 200])\n",
    "\n",
    "for frame_idx in range(10):\n",
    "    mesh2.world_from_anatomical = geo.FrameTransform.from_translation([0, 0, 10*frame_idx])\n",
    "\n",
    "    carm.move_by(\n",
    "        delta_isocenter=[0, 0, 10],\n",
    "        delta_alpha=5*frame_idx,\n",
    "        delta_beta=0,\n",
    "        delta_gamma=0,\n",
    "        degrees=False,\n",
    "    )\n",
    "\n",
    "    drr = drr_prof.render_drr()\n",
    "\n",
    "    segs = rasterize_prof.render_seg()\n",
    "    hits = rasterize_prof.render_hits()\n",
    "\n",
    "\n",
    "    "
   ]
  },
  {
   "cell_type": "code",
   "execution_count": null,
   "metadata": {},
   "outputs": [],
   "source": [
    "a = Primitive(primitive_id=\"a\", data=StlMesh(url=\"file:///home/pelvisvr/datasets/DeepDRR_DATA/CT-chest.nrrd\", material_name=\"material_name\", density=1.0, priority=1, addtive=True, subtractive=True))\n",
    "b = Primitive(primitive_id=\"b\", data=H5Volume(url=\"file:///home/pelvisvr/datasets/DeepDRR_DATA/CT-chest.nrrd\", priority=1))\n",
    "\n",
    "cam = Camera(transform=Matrix4x4(data=np.eye(4).flatten()), intrinsic=CameraIntrinsic(fx=1.0, fy=1.0, cx=0.0, cy=0.0, near=1.0, far=100.0))\n",
    "inst = Instance(primitive_id=\"a\", transform=Matrix4x4(data=np.eye(4).flatten()), morph_weights=[1.0, 2.0, 3.0])\n",
    "frame = Frame(camera=cam, instances=[inst])"
   ]
  },
  {
   "cell_type": "code",
   "execution_count": null,
   "metadata": {},
   "outputs": [],
   "source": [
    "c = Scene(primitives=[a,b], frames=[frame])"
   ]
  },
  {
   "cell_type": "code",
   "execution_count": null,
   "metadata": {},
   "outputs": [],
   "source": [
    "# save to asdf.json\n",
    "\n",
    "with open(\"asdf.json\", \"w\") as f:\n",
    "    f.write(c.model_dump_json(indent=2))"
   ]
  },
  {
   "cell_type": "code",
   "execution_count": null,
   "metadata": {},
   "outputs": [
    {
     "data": {
      "text/plain": [
       "Scene(primitives=[Primitive(primitive_id='a', data=StlMesh(prim_data_type='StlMesh', url=Url('file:///home/pelvisvr/datasets/DeepDRR_DATA/CT-chest.nrrd'), material_name='material_name', density=1.0, priority=1, addtive=True, subtractive=True)), Primitive(primitive_id='b', data=H5Volume(prim_data_type='H5Volume', url=Url('file:///home/pelvisvr/datasets/DeepDRR_DATA/CT-chest.nrrd'), priority=1))], frames=[Frame(camera=Camera(transform=Matrix4x4(data=[1.0, 0.0, 0.0, 0.0, 0.0, 1.0, 0.0, 0.0, 0.0, 0.0, 1.0, 0.0, 0.0, 0.0, 0.0, 1.0]), intrinsic=CameraIntrinsic(fx=1.0, fy=1.0, cx=0.0, cy=0.0, near=1.0, far=100.0)), instances=[Instance(primitive_id='a', transform=Matrix4x4(data=[1.0, 0.0, 0.0, 0.0, 0.0, 1.0, 0.0, 0.0, 0.0, 0.0, 1.0, 0.0, 0.0, 0.0, 0.0, 1.0]), morph_weights=[1.0, 2.0, 3.0])])])"
      ]
     },
     "execution_count": 21,
     "metadata": {},
     "output_type": "execute_result"
    }
   ],
   "source": [
    "# load\n",
    "with open(\"asdf.json\", \"r\") as f:\n",
    "    d = Scene.model_validate_json(f.read())\n",
    "\n",
    "d"
   ]
  },
  {
   "cell_type": "code",
   "execution_count": null,
   "metadata": {},
   "outputs": [
    {
     "data": {
      "text/plain": [
       "'/home/pelvisvr/datasets/DeepDRR_DATA/CT-chest.nrrd'"
      ]
     },
     "execution_count": 23,
     "metadata": {},
     "output_type": "execute_result"
    }
   ],
   "source": [
    "a.data.url.path"
   ]
  },
  {
   "cell_type": "code",
   "execution_count": null,
   "metadata": {},
   "outputs": [
    {
     "name": "stdout",
     "output_type": "stream",
     "text": [
      "42.189103\n"
     ]
    }
   ],
   "source": [
    "import urllib.request\n",
    "\n",
    "o = urllib.request.urlopen(\"file:///home/pelvisvr/datasets/DeepDRR_DATA/CT-chest.nrrd\")\n",
    "\n",
    "asdf = o.read()\n",
    "\n",
    "print(len(asdf) / 1e6)"
   ]
  },
  {
   "cell_type": "code",
   "execution_count": null,
   "metadata": {},
   "outputs": [
    {
     "data": {
      "text/plain": [
       "bytes"
      ]
     },
     "execution_count": 13,
     "metadata": {},
     "output_type": "execute_result"
    }
   ],
   "source": [
    "type(asdf)"
   ]
  }
 ],
 "metadata": {
  "kernelspec": {
   "display_name": "deepdrr",
   "language": "python",
   "name": "python3"
  },
  "language_info": {
   "codemirror_mode": {
    "name": "ipython",
    "version": 3
   },
   "file_extension": ".py",
   "mimetype": "text/x-python",
   "name": "python",
   "nbconvert_exporter": "python",
   "pygments_lexer": "ipython3",
   "version": "3.10.12"
  }
 },
 "nbformat": 4,
 "nbformat_minor": 2
}
