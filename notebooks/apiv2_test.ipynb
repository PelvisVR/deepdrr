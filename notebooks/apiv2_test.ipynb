{
 "cells": [
  {
   "cell_type": "code",
   "execution_count": 138,
   "metadata": {},
   "outputs": [
    {
     "name": "stdout",
     "output_type": "stream",
     "text": [
      "The autoreload extension is already loaded. To reload it, use:\n",
      "  %reload_ext autoreload\n"
     ]
    }
   ],
   "source": [
    "%load_ext autoreload\n",
    "%autoreload 2"
   ]
  },
  {
   "cell_type": "code",
   "execution_count": 139,
   "metadata": {},
   "outputs": [],
   "source": [
    "from deepdrr.frontend.frontend import *"
   ]
  },
  {
   "cell_type": "code",
   "execution_count": 140,
   "metadata": {},
   "outputs": [],
   "source": [
    "t = TransformTree()\n",
    "t2 = TransformTree()"
   ]
  },
  {
   "cell_type": "code",
   "execution_count": 141,
   "metadata": {},
   "outputs": [],
   "source": [
    "n1 = TransformTreeNode(transform=geo.FrameTransform.from_translation([0,0,3]), contents=[\"n1\"])\n",
    "n2 = TransformTreeNode(transform=None, contents=[\"n2\"])\n",
    "n3 = TransformTreeNode(transform=geo.FrameTransform.from_translation([2,0,0]), contents=[\"n3\"])"
   ]
  },
  {
   "cell_type": "code",
   "execution_count": 142,
   "metadata": {},
   "outputs": [],
   "source": [
    "t.add(n1)\n",
    "n1.add(n2)\n",
    "t.add(n3)"
   ]
  },
  {
   "cell_type": "code",
   "execution_count": 143,
   "metadata": {},
   "outputs": [],
   "source": [
    "t.remove(n1)"
   ]
  },
  {
   "cell_type": "code",
   "execution_count": 148,
   "metadata": {},
   "outputs": [
    {
     "data": {
      "text/plain": [
       "[root, n3]"
      ]
     },
     "execution_count": 148,
     "metadata": {},
     "output_type": "execute_result"
    }
   ],
   "source": [
    "list(t._g)"
   ]
  },
  {
   "cell_type": "code",
   "execution_count": 145,
   "metadata": {},
   "outputs": [
    {
     "ename": "ValueError",
     "evalue": "Target not in tree",
     "output_type": "error",
     "traceback": [
      "\u001b[0;31m---------------------------------------------------------------------------\u001b[0m",
      "\u001b[0;31mValueError\u001b[0m                                Traceback (most recent call last)",
      "Cell \u001b[0;32mIn[145], line 1\u001b[0m\n\u001b[0;32m----> 1\u001b[0m \u001b[43mt\u001b[49m\u001b[38;5;241;43m.\u001b[39;49m\u001b[43mget_transform\u001b[49m\u001b[43m(\u001b[49m\u001b[43mn3\u001b[49m\u001b[43m,\u001b[49m\u001b[43m \u001b[49m\u001b[43mn2\u001b[49m\u001b[43m)\u001b[49m\n",
      "File \u001b[0;32m~/repos/deepdrr/deepdrr/frontend/transform_manager.py:140\u001b[0m, in \u001b[0;36mTransformTree.get_transform\u001b[0;34m(self, source, target)\u001b[0m\n\u001b[1;32m    138\u001b[0m     \u001b[38;5;28;01mraise\u001b[39;00m \u001b[38;5;167;01mValueError\u001b[39;00m(\u001b[38;5;124m\"\u001b[39m\u001b[38;5;124mSource not in tree\u001b[39m\u001b[38;5;124m\"\u001b[39m)\n\u001b[1;32m    139\u001b[0m \u001b[38;5;28;01mif\u001b[39;00m target \u001b[38;5;129;01mnot\u001b[39;00m \u001b[38;5;129;01min\u001b[39;00m \u001b[38;5;28mself\u001b[39m\u001b[38;5;241m.\u001b[39m_g:\n\u001b[0;32m--> 140\u001b[0m     \u001b[38;5;28;01mraise\u001b[39;00m \u001b[38;5;167;01mValueError\u001b[39;00m(\u001b[38;5;124m\"\u001b[39m\u001b[38;5;124mTarget not in tree\u001b[39m\u001b[38;5;124m\"\u001b[39m)\n\u001b[1;32m    142\u001b[0m \u001b[38;5;28;01mtry\u001b[39;00m:\n\u001b[1;32m    143\u001b[0m     path \u001b[38;5;241m=\u001b[39m nx\u001b[38;5;241m.\u001b[39mshortest_path(\u001b[38;5;28mself\u001b[39m\u001b[38;5;241m.\u001b[39m_g, source, target)\n",
      "\u001b[0;31mValueError\u001b[0m: Target not in tree"
     ]
    }
   ],
   "source": [
    "# t.get_transform(n3, n2)"
   ]
  },
  {
   "cell_type": "code",
   "execution_count": 146,
   "metadata": {},
   "outputs": [
    {
     "data": {
      "image/png": "[encoded data removed]",
      "text/plain": [
       "<Figure size 640x480 with 1 Axes>"
      ]
     },
     "metadata": {},
     "output_type": "display_data"
    }
   ],
   "source": [
    "nx.draw(t._forward_view(), with_labels=True, font_weight='bold')\n"
   ]
  },
  {
   "cell_type": "code",
   "execution_count": null,
   "metadata": {},
   "outputs": [],
   "source": [
    "n2.add(n3)"
   ]
  },
  {
   "cell_type": "code",
   "execution_count": null,
   "metadata": {},
   "outputs": [],
   "source": [
    "g = nx.DiGraph()"
   ]
  },
  {
   "cell_type": "code",
   "execution_count": null,
   "metadata": {},
   "outputs": [],
   "source": [
    "g.add_node(\"a\")\n",
    "g.add_node(\"b\")\n",
    "g.add_node(\"c\")\n",
    "\n",
    "g.add_edge(\"a\", \"b\", forward=True)\n",
    "g.add_edge(\"b\", \"a\", forward=False)\n",
    "g.add_edge(\"a\", \"c\", forward=True)\n",
    "g.add_edge(\"c\", \"a\", forward=False)"
   ]
  },
  {
   "cell_type": "code",
   "execution_count": null,
   "metadata": {},
   "outputs": [
    {
     "data": {
      "text/plain": [
       "False"
      ]
     },
     "execution_count": 60,
     "metadata": {},
     "output_type": "execute_result"
    }
   ],
   "source": [
    "\"f\" in g"
   ]
  },
  {
   "cell_type": "code",
   "execution_count": null,
   "metadata": {},
   "outputs": [
    {
     "data": {
      "text/plain": [
       "'a'"
      ]
     },
     "execution_count": 61,
     "metadata": {},
     "output_type": "execute_result"
    }
   ],
   "source": [
    "node = \"c\"\n",
    "next((x for x in g.neighbors(node) if not g[node][x]['forward']))"
   ]
  },
  {
   "cell_type": "code",
   "execution_count": null,
   "metadata": {},
   "outputs": [
    {
     "data": {
      "image/png": "[encoded data removed]",
      "text/plain": [
       "<Figure size 640x480 with 1 Axes>"
      ]
     },
     "metadata": {},
     "output_type": "display_data"
    }
   ],
   "source": [
    "g2=nx.subgraph_view(g, filter_edge=lambda u, v: g[u][v]['forward'])\n",
    "nx.draw(g2, with_labels=True, font_weight='bold')"
   ]
  },
  {
   "cell_type": "code",
   "execution_count": null,
   "metadata": {},
   "outputs": [
    {
     "name": "stdout",
     "output_type": "stream",
     "text": [
      "['b', 'a', 'c']\n",
      "{'forward': False} b a\n",
      "{'forward': True} a c\n"
     ]
    }
   ],
   "source": [
    "path = nx.shortest_path(g, \"b\", \"c\")\n",
    "print(path)\n",
    "\n",
    "# print edges\n",
    "for i in range(len(path) - 1):\n",
    "    print(g[path[i]][path[i+1]], path[i], path[i+1])"
   ]
  },
  {
   "cell_type": "code",
   "execution_count": null,
   "metadata": {},
   "outputs": [
    {
     "name": "stdout",
     "output_type": "stream",
     "text": [
      "{'forward': True} a b\n",
      "{'forward': True} a c\n"
     ]
    }
   ],
   "source": [
    "# print all edges from a\n",
    "for i in g[\"a\"]:\n",
    "    print(g[\"a\"][i], \"a\", i)"
   ]
  },
  {
   "cell_type": "code",
   "execution_count": null,
   "metadata": {},
   "outputs": [],
   "source": [
    "from deepdrr.frontend.renderer import SynchronousRenderer\n",
    "\n",
    "\n",
    "volume = Volume.from_nrrd(\"hu_values.nrrd\")\n",
    "mesh1 = Mesh.from_stl(\"mesh1.stl\", tag=\"mesh1\")\n",
    "mesh2 = Mesh.from_stl(\"mesh2.stl\", tag=\"mesh2\")\n",
    "\n",
    "carm = MobileCArm()\n",
    "\n",
    "graph = TransformTree()\n",
    "graph.add(carm)\n",
    "graph.add(volume)\n",
    "graph.add(mesh1)\n",
    "graph.add(mesh2)\n",
    "\n",
    "scene = GraphScene(graph)\n",
    "\n",
    "drr_settings = DRRRenderSettings(\n",
    "    width=512,\n",
    "    height=512,\n",
    "    neglog=True,\n",
    ")\n",
    "drr_prof = DRRRenderProfile(\n",
    "    settings=drr_settings,\n",
    "    renderer=SynchronousRenderer(),\n",
    "    scene=scene\n",
    ")\n",
    "\n",
    "rast_settings = RasterizeRenderSettings(\n",
    "    width=512,\n",
    "    height=512,\n",
    "    max_mesh_hits=32,\n",
    ")\n",
    "rasterize_prof = RasterizeRenderProfile(\n",
    "    settings=rast_settings,\n",
    "    renderer=SynchronousRenderer(),\n",
    "    scene=scene\n",
    ")\n",
    "\n",
    "mesh1.world_from_anatomical = geo.FrameTransform.from_translation([-30, 50, 200])\n",
    "\n",
    "for frame_idx in range(10):\n",
    "    mesh2.world_from_anatomical = geo.FrameTransform.from_translation([0, 0, 10*frame_idx])\n",
    "\n",
    "    carm.move_by(\n",
    "        delta_isocenter=[0, 0, 10],\n",
    "        delta_alpha=5*frame_idx,\n",
    "        delta_beta=0,\n",
    "        delta_gamma=0,\n",
    "        degrees=False,\n",
    "    )\n",
    "\n",
    "    drr = drr_prof.render_drr()\n",
    "\n",
    "    segs = rasterize_prof.render_seg()\n",
    "    hits = rasterize_prof.render_hits()\n",
    "\n",
    "\n",
    "    "
   ]
  },
  {
   "cell_type": "code",
   "execution_count": null,
   "metadata": {},
   "outputs": [],
   "source": [
    "a = Primitive(primitive_id=\"a\", data=StlMesh(url=\"file:///home/pelvisvr/datasets/DeepDRR_DATA/CT-chest.nrrd\", material_name=\"material_name\", density=1.0, priority=1, addtive=True, subtractive=True))\n",
    "b = Primitive(primitive_id=\"b\", data=H5Volume(url=\"file:///home/pelvisvr/datasets/DeepDRR_DATA/CT-chest.nrrd\", priority=1))\n",
    "\n",
    "cam = Camera(transform=Matrix4x4(data=np.eye(4).flatten()), intrinsic=CameraIntrinsic(fx=1.0, fy=1.0, cx=0.0, cy=0.0, near=1.0, far=100.0))\n",
    "inst = Instance(primitive_id=\"a\", transform=Matrix4x4(data=np.eye(4).flatten()), morph_weights=[1.0, 2.0, 3.0])\n",
    "frame = Frame(camera=cam, instances=[inst])"
   ]
  },
  {
   "cell_type": "code",
   "execution_count": null,
   "metadata": {},
   "outputs": [],
   "source": [
    "c = Scene(primitives=[a,b], frames=[frame])"
   ]
  },
  {
   "cell_type": "code",
   "execution_count": null,
   "metadata": {},
   "outputs": [],
   "source": [
    "# save to asdf.json\n",
    "\n",
    "with open(\"asdf.json\", \"w\") as f:\n",
    "    f.write(c.model_dump_json(indent=2))"
   ]
  },
  {
   "cell_type": "code",
   "execution_count": null,
   "metadata": {},
   "outputs": [
    {
     "data": {
      "text/plain": [
       "Scene(primitives=[Primitive(primitive_id='a', data=StlMesh(prim_data_type='StlMesh', url=Url('file:///home/pelvisvr/datasets/DeepDRR_DATA/CT-chest.nrrd'), material_name='material_name', density=1.0, priority=1, addtive=True, subtractive=True)), Primitive(primitive_id='b', data=H5Volume(prim_data_type='H5Volume', url=Url('file:///home/pelvisvr/datasets/DeepDRR_DATA/CT-chest.nrrd'), priority=1))], frames=[Frame(camera=Camera(transform=Matrix4x4(data=[1.0, 0.0, 0.0, 0.0, 0.0, 1.0, 0.0, 0.0, 0.0, 0.0, 1.0, 0.0, 0.0, 0.0, 0.0, 1.0]), intrinsic=CameraIntrinsic(fx=1.0, fy=1.0, cx=0.0, cy=0.0, near=1.0, far=100.0)), instances=[Instance(primitive_id='a', transform=Matrix4x4(data=[1.0, 0.0, 0.0, 0.0, 0.0, 1.0, 0.0, 0.0, 0.0, 0.0, 1.0, 0.0, 0.0, 0.0, 0.0, 1.0]), morph_weights=[1.0, 2.0, 3.0])])])"
      ]
     },
     "execution_count": 21,
     "metadata": {},
     "output_type": "execute_result"
    }
   ],
   "source": [
    "# load\n",
    "with open(\"asdf.json\", \"r\") as f:\n",
    "    d = Scene.model_validate_json(f.read())\n",
    "\n",
    "d"
   ]
  },
  {
   "cell_type": "code",
   "execution_count": null,
   "metadata": {},
   "outputs": [
    {
     "data": {
      "text/plain": [
       "'/home/pelvisvr/datasets/DeepDRR_DATA/CT-chest.nrrd'"
      ]
     },
     "execution_count": 23,
     "metadata": {},
     "output_type": "execute_result"
    }
   ],
   "source": [
    "a.data.url.path"
   ]
  },
  {
   "cell_type": "code",
   "execution_count": null,
   "metadata": {},
   "outputs": [
    {
     "name": "stdout",
     "output_type": "stream",
     "text": [
      "42.189103\n"
     ]
    }
   ],
   "source": [
    "import urllib.request\n",
    "\n",
    "o = urllib.request.urlopen(\"file:///home/pelvisvr/datasets/DeepDRR_DATA/CT-chest.nrrd\")\n",
    "\n",
    "asdf = o.read()\n",
    "\n",
    "print(len(asdf) / 1e6)"
   ]
  },
  {
   "cell_type": "code",
   "execution_count": null,
   "metadata": {},
   "outputs": [
    {
     "data": {
      "text/plain": [
       "bytes"
      ]
     },
     "execution_count": 13,
     "metadata": {},
     "output_type": "execute_result"
    }
   ],
   "source": [
    "type(asdf)"
   ]
  }
 ],
 "metadata": {
  "kernelspec": {
   "display_name": "deepdrr",
   "language": "python",
   "name": "python3"
  },
  "language_info": {
   "codemirror_mode": {
    "name": "ipython",
    "version": 3
   },
   "file_extension": ".py",
   "mimetype": "text/x-python",
   "name": "python",
   "nbconvert_exporter": "python",
   "pygments_lexer": "ipython3",
   "version": "3.10.12"
  }
 },
 "nbformat": 4,
 "nbformat_minor": 2
}
