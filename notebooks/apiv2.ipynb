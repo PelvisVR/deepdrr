{
 "cells": [
  {
   "cell_type": "code",
   "execution_count": 2,
   "metadata": {},
   "outputs": [],
   "source": [
    "\n",
    "import numpy as np\n",
    "from pathlib import Path\n",
    "from scipy.spatial.transform import Rotation\n",
    "import deepdrr\n",
    "from deepdrr import geo\n",
    "from deepdrr.utils import test_utils\n",
    "from PIL import Image\n",
    "import pytest\n",
    "import copy\n",
    "import time\n",
    "import matplotlib.pyplot as plt\n",
    "import tqdm\n",
    "import numpy as np\n",
    "import matplotlib.pyplot as plt\n",
    "from PIL import Image, ImageSequence\n",
    "from pathlib import Path\n",
    "import io\n",
    "from matplotlib import pyplot as plt\n",
    "\n",
    "from deepdrr.utils.img_cmp import verify_image\n",
    "from deepdrr.utils.image_utils import ensure_cdim, as_uint8, as_float32\n",
    "import cv2\n",
    "import seaborn as sns\n",
    "\n",
    "\n",
    "import pyvista as pv\n",
    "import logging\n",
    "import pyrender\n",
    "from deepdrr.pyrenderdrr.material import DRRMaterial\n",
    "from deepdrr.utils.mesh_utils import *\n",
    "\n",
    "\n",
    "import logging\n",
    "import numpy as np\n",
    "from pathlib import Path\n",
    "import nibabel as nib\n",
    "from pydicom.filereader import dcmread\n",
    "import nrrd\n",
    "from scipy.spatial.transform import Rotation\n",
    "from scipy.interpolate import RegularGridInterpolator\n",
    "import trimesh\n",
    "import pyvista as pv\n",
    "\n",
    "from datetime import datetime\n",
    "from typing import Tuple\n",
    "\n",
    "from pydantic import BaseModel"
   ]
  },
  {
   "cell_type": "code",
   "execution_count": 3,
   "metadata": {},
   "outputs": [
    {
     "name": "stdout",
     "output_type": "stream",
     "text": [
      "Using downloaded and verified file: /home/pelvisvr/datasets/DeepDRR_DATA/CT-chest.nrrd\n",
      "42.189103\n"
     ]
    }
   ],
   "source": [
    "path = test_utils.download_sampledata(\"CT-chest\")\n",
    "# print file size in mb\n",
    "print(path.stat().st_size / 1e6)"
   ]
  },
  {
   "cell_type": "code",
   "execution_count": 69,
   "metadata": {},
   "outputs": [
    {
     "data": {
      "text/plain": [
       "(512, 512, 139)"
      ]
     },
     "execution_count": 69,
     "metadata": {},
     "output_type": "execute_result"
    }
   ],
   "source": [
    "hu_values, header = nrrd.read(path)\n",
    "hu_values.shape"
   ]
  },
  {
   "cell_type": "code",
   "execution_count": 20,
   "metadata": {},
   "outputs": [
    {
     "name": "stdout",
     "output_type": "stream",
     "text": [
      "832 ms ± 15.6 ms per loop (mean ± std. dev. of 2 runs, 1 loop each)\n"
     ]
    }
   ],
   "source": [
    "import h5py\n",
    "\n",
    "def load_func():\n",
    "    with h5py.File(\"hu_values.h5\", \"w\") as f:\n",
    "        # f.create_dataset(\"hu_values\", data=hu_values, compression=\"gzip\", compression_opts=1)\n",
    "        # f.create_dataset(\"hu_values\", data=hu_values)\n",
    "        f.create_dataset(\"hu_values\", data=hu_values, compression=\"lzf\")\n",
    "\n",
    "\n",
    "%timeit -r2 load_func()\n"
   ]
  },
  {
   "cell_type": "code",
   "execution_count": 23,
   "metadata": {},
   "outputs": [
    {
     "data": {
      "image/png": "[encoded data removed]",
      "text/plain": [
       "<Figure size 640x480 with 1 Axes>"
      ]
     },
     "metadata": {},
     "output_type": "display_data"
    }
   ],
   "source": [
    "# make np array with white circle in the middle\n",
    "\n",
    "im = np.zeros((512, 512), dtype=np.uint8)\n",
    "\n",
    "# draw circle\n",
    "cv2.circle(im, (256, 256), 100, 255, -1)\n",
    "\n",
    "# show im\n",
    "plt.imshow(im, cmap=\"gray\")\n",
    "plt.show()"
   ]
  },
  {
   "cell_type": "code",
   "execution_count": 26,
   "metadata": {},
   "outputs": [
    {
     "name": "stdout",
     "output_type": "stream",
     "text": [
      "Collecting pycocotools\n",
      "  Obtaining dependency information for pycocotools from https://files.pythonhosted.org/packages/ba/64/0451cf41a00fd5ac4501de4ea0e395b7d909e09d665e56890b5d3809ae26/pycocotools-2.0.7-cp310-cp310-manylinux_2_17_x86_64.manylinux2014_x86_64.whl.metadata\n",
      "  Using cached pycocotools-2.0.7-cp310-cp310-manylinux_2_17_x86_64.manylinux2014_x86_64.whl.metadata (1.1 kB)\n",
      "Requirement already satisfied: matplotlib>=2.1.0 in /home/pelvisvr/mambaforge/envs/deepdrr/lib/python3.10/site-packages (from pycocotools) (3.8.0)\n",
      "Requirement already satisfied: numpy in /home/pelvisvr/mambaforge/envs/deepdrr/lib/python3.10/site-packages (from pycocotools) (1.26.0)\n",
      "Requirement already satisfied: contourpy>=1.0.1 in /home/pelvisvr/mambaforge/envs/deepdrr/lib/python3.10/site-packages (from matplotlib>=2.1.0->pycocotools) (1.1.1)\n",
      "Requirement already satisfied: cycler>=0.10 in /home/pelvisvr/mambaforge/envs/deepdrr/lib/python3.10/site-packages (from matplotlib>=2.1.0->pycocotools) (0.11.0)\n",
      "Requirement already satisfied: fonttools>=4.22.0 in /home/pelvisvr/mambaforge/envs/deepdrr/lib/python3.10/site-packages (from matplotlib>=2.1.0->pycocotools) (4.42.1)\n",
      "Requirement already satisfied: kiwisolver>=1.0.1 in /home/pelvisvr/mambaforge/envs/deepdrr/lib/python3.10/site-packages (from matplotlib>=2.1.0->pycocotools) (1.4.5)\n",
      "Requirement already satisfied: packaging>=20.0 in /home/pelvisvr/mambaforge/envs/deepdrr/lib/python3.10/site-packages (from matplotlib>=2.1.0->pycocotools) (23.1)\n",
      "Requirement already satisfied: pillow>=6.2.0 in /home/pelvisvr/mambaforge/envs/deepdrr/lib/python3.10/site-packages (from matplotlib>=2.1.0->pycocotools) (9.4.0)\n",
      "Requirement already satisfied: pyparsing>=2.3.1 in /home/pelvisvr/mambaforge/envs/deepdrr/lib/python3.10/site-packages (from matplotlib>=2.1.0->pycocotools) (3.1.1)\n",
      "Requirement already satisfied: python-dateutil>=2.7 in /home/pelvisvr/mambaforge/envs/deepdrr/lib/python3.10/site-packages (from matplotlib>=2.1.0->pycocotools) (2.8.2)\n",
      "Requirement already satisfied: six>=1.5 in /home/pelvisvr/mambaforge/envs/deepdrr/lib/python3.10/site-packages (from python-dateutil>=2.7->matplotlib>=2.1.0->pycocotools) (1.16.0)\n",
      "Using cached pycocotools-2.0.7-cp310-cp310-manylinux_2_17_x86_64.manylinux2014_x86_64.whl (426 kB)\n",
      "Installing collected packages: pycocotools\n",
      "Successfully installed pycocotools-2.0.7\n"
     ]
    }
   ],
   "source": [
    "!pip install pycocotools"
   ]
  },
  {
   "cell_type": "code",
   "execution_count": 32,
   "metadata": {},
   "outputs": [
    {
     "name": "stdout",
     "output_type": "stream",
     "text": [
      "CPU times: user 1.46 s, sys: 0 ns, total: 1.46 s\n",
      "Wall time: 1.46 s\n"
     ]
    }
   ],
   "source": [
    "import deepdrr.coco_utils as coco_utils\n",
    "\n",
    "def time_func():\n",
    "    for i in range(100):\n",
    "        for j in range(50):\n",
    "            s = coco_utils.encode_segmentation(im)\n",
    "\n",
    "%time time_func()\n",
    "\n",
    "\n"
   ]
  },
  {
   "cell_type": "code",
   "execution_count": 36,
   "metadata": {},
   "outputs": [
    {
     "name": "stdout",
     "output_type": "stream",
     "text": [
      "293 µs ± 1.88 µs per loop (mean ± std. dev. of 7 runs, 1,000 loops each)\n"
     ]
    }
   ],
   "source": [
    "%timeit coco_utils.encode_segmentation(im)"
   ]
  },
  {
   "cell_type": "code",
   "execution_count": 35,
   "metadata": {},
   "outputs": [
    {
     "data": {
      "text/plain": [
       "414"
      ]
     },
     "execution_count": 35,
     "metadata": {},
     "output_type": "execute_result"
    }
   ],
   "source": [
    "s = coco_utils.encode_segmentation(im)\n",
    "len(s[\"counts\"])\n"
   ]
  },
  {
   "cell_type": "code",
   "execution_count": 45,
   "metadata": {},
   "outputs": [
    {
     "data": {
      "text/plain": [
       "<matplotlib.image.AxesImage at 0x752eee50cbb0>"
      ]
     },
     "execution_count": 45,
     "metadata": {},
     "output_type": "execute_result"
    },
    {
     "data": {
      "image/png": "[encoded data removed]",
      "text/plain": [
       "<Figure size 640x480 with 1 Axes>"
      ]
     },
     "metadata": {},
     "output_type": "display_data"
    }
   ],
   "source": [
    "safd = hu_values[:,:,50].astype(np.float32)\n",
    "\n",
    "# add a nan square\n",
    "safd[100:110, 100:110] = np.nan\n",
    "\n",
    "# add a inf square\n",
    "safd[120:130, 120:130] = np.inf\n",
    "\n",
    "plt.imshow(safd, cmap=\"gray\")\n"
   ]
  },
  {
   "cell_type": "code",
   "execution_count": 46,
   "metadata": {},
   "outputs": [
    {
     "name": "stdout",
     "output_type": "stream",
     "text": [
      "2.41 ms ± 77.6 µs per loop (mean ± std. dev. of 7 runs, 100 loops each)\n"
     ]
    }
   ],
   "source": [
    "from deepdrr.utils import image_utils, neglog\n",
    "\n",
    "%timeit image_utils.save_raw(\"hu_values.tiff\", safd)"
   ]
  },
  {
   "cell_type": "code",
   "execution_count": 63,
   "metadata": {},
   "outputs": [
    {
     "data": {
      "text/plain": [
       "True"
      ]
     },
     "execution_count": 63,
     "metadata": {},
     "output_type": "execute_result"
    }
   ],
   "source": [
    "# load the tiff with pil\n",
    "\n",
    "im = Image.open(\"hu_values.tiff\")\n",
    "\n",
    "# convert to numpy array\n",
    "im = np.array(im)\n",
    "\n",
    "# im should be the same as safd\n",
    "np.allclose(im, safd, equal_nan=True)"
   ]
  },
  {
   "cell_type": "code",
   "execution_count": 68,
   "metadata": {},
   "outputs": [
    {
     "data": {
      "text/html": [
       "<b>filename:</b> hu_values.tiff<br><b>byteorder:</b> <<br><b>is_bigtiff:</b> False<br><b>flags:</b> ['uniform']<br><hr style=\"border: 4px solid black; width: 75%; padding-left: 10px; margin-left: 0;\" />"
      ],
      "text/plain": [
       "<IPython.core.display.HTML object>"
      ]
     },
     "metadata": {},
     "output_type": "display_data"
    },
    {
     "data": {
      "text/markdown": [
       "## Series 1 of 1"
      ],
      "text/plain": [
       "<IPython.core.display.Markdown object>"
      ]
     },
     "metadata": {},
     "output_type": "display_data"
    },
    {
     "data": {
      "text/html": [
       "<b>name:</b> <br><b>axes:</b> YX<br><b>dtype:</b> float32<br><b>index:</b> 0<br><b>is_multifile:</b> False<br><b>is_pyramidal:</b> False<br><b>keyframe:</b> 0<br><b>kind:</b> uniform<br><b>ndim:</b> 2<br><b>offset:</b> 134<br><b>shape:</b> [512, 512]<br><b>size:</b> 262144<br><b>transform:</b> None<br><hr style=\"border: 2px solid black; width: 50%; padding-left: 10px; margin-left: 0;\" />"
      ],
      "text/plain": [
       "<IPython.core.display.HTML object>"
      ]
     },
     "metadata": {},
     "output_type": "display_data"
    },
    {
     "data": {
      "text/markdown": [
       "### Level 1 of 1"
      ],
      "text/plain": [
       "<IPython.core.display.Markdown object>"
      ]
     },
     "metadata": {},
     "output_type": "display_data"
    },
    {
     "data": {
      "text/html": [
       "<b>index:</b> 0<br><b>shape:</b> [512, 512]<br><hr style=\"border: 1px solid black; width: 25%; padding-left: 10px; margin-left: 0;\" />"
      ],
      "text/plain": [
       "<IPython.core.display.HTML object>"
      ]
     },
     "metadata": {},
     "output_type": "display_data"
    },
    {
     "data": {
      "text/markdown": [
       "#### Page 1 of 1"
      ],
      "text/plain": [
       "<IPython.core.display.Markdown object>"
      ]
     },
     "metadata": {},
     "output_type": "display_data"
    },
    {
     "data": {
      "text/html": [
       "<b>axes:</b> YX<br><b>chunked:</b> [1, 1]<br><b>chunks:</b> [512, 512]<br><b>colormap:</b> None<br><b>dtype:</b> float32<br><b>extrasamples:</b> []<br><b>flags:</b> []<br><b>hash:</b> 0x9a64bc26<br><b>index:</b> 0<br><b>is_tiled:</b> False<br><b>jpegheader:</b> None<br><b>nbytes:</b> 1048576<br><b>ndim:</b> 2<br><b>sampleformat:</b> IEEE floating-point data<br><b>shape:</b> [512, 512]<br><b>shaped:</b> [1, 1, 512, 512, 1]<br><b>size:</b> 262144<br>"
      ],
      "text/plain": [
       "<IPython.core.display.HTML object>"
      ]
     },
     "metadata": {},
     "output_type": "display_data"
    },
    {
     "data": {
      "text/markdown": [
       "**description:**\n",
       "None"
      ],
      "text/plain": [
       "<IPython.core.display.Markdown object>"
      ]
     },
     "metadata": {},
     "output_type": "display_data"
    },
    {
     "data": {
      "text/html": [
       "&nbsp;&nbsp;&nbsp;<table><tr><th><b>name</b></th><th><b>dtype</b></th><th><b>valueoffset</b></th><th><b>count</b></th><th style='text-align:left;'>value</b></th></tr><tr><td>ImageWidth</td><td>DATATYPE.LONG</td><td>18</td><td>1</td><td style='text-align:left;'>512</td></tr><tr><td>ImageLength</td><td>DATATYPE.LONG</td><td>30</td><td>1</td><td style='text-align:left;'>512</td></tr><tr><td>BitsPerSample</td><td>DATATYPE.SHORT</td><td>42</td><td>1</td><td style='text-align:left;'>32</td></tr><tr><td>Compression</td><td>DATATYPE.SHORT</td><td>54</td><td>1</td><td style='text-align:left;'>COMPRESSION.NONE</td></tr><tr><td>PhotometricInterpretation</td><td>DATATYPE.SHORT</td><td>66</td><td>1</td><td style='text-align:left;'>PHOTOMETRIC.MINISBLACK</td></tr><tr><td>StripOffsets</td><td>DATATYPE.LONG</td><td>78</td><td>1</td><td style='text-align:left;'>[134]</td></tr><tr><td>RowsPerStrip</td><td>DATATYPE.LONG</td><td>90</td><td>1</td><td style='text-align:left;'>512</td></tr><tr><td>StripByteCounts</td><td>DATATYPE.LONG</td><td>102</td><td>1</td><td style='text-align:left;'>[1048576]</td></tr><tr><td>PlanarConfiguration</td><td>DATATYPE.SHORT</td><td>114</td><td>1</td><td style='text-align:left;'>PLANARCONFIG.CONTIG</td></tr><tr><td>SampleFormat</td><td>DATATYPE.SHORT</td><td>126</td><td>1</td><td style='text-align:left;'>SAMPLEFORMAT.IEEEFP</td></tr></table>"
      ],
      "text/plain": [
       "<IPython.core.display.HTML object>"
      ]
     },
     "metadata": {},
     "output_type": "display_data"
    },
    {
     "data": {
      "text/html": [
       "<hr style=\"border: 1px solid black; width: 25%; padding-left: 10px; margin-left: 0;\" />"
      ],
      "text/plain": [
       "<IPython.core.display.HTML object>"
      ]
     },
     "metadata": {},
     "output_type": "display_data"
    },
    {
     "data": {
      "text/markdown": [
       "#### Frames: 0"
      ],
      "text/plain": [
       "<IPython.core.display.Markdown object>"
      ]
     },
     "metadata": {},
     "output_type": "display_data"
    },
    {
     "data": {
      "text/markdown": [
       "[]"
      ],
      "text/plain": [
       "<IPython.core.display.Markdown object>"
      ]
     },
     "metadata": {},
     "output_type": "display_data"
    }
   ],
   "source": [
    "from tiffinspector import TiffInspector\n",
    "\n",
    "# Instantiate the TiffInspector with the path to the TIFF file\n",
    "tiff_inspector = TiffInspector(\"hu_values.tiff\")\n",
    "\n",
    "# Display the report\n",
    "tiff_inspector.display_report(expanded=False, levels=None, max_text_length=None)"
   ]
  },
  {
   "cell_type": "code",
   "execution_count": 76,
   "metadata": {},
   "outputs": [
    {
     "ename": "ImportError",
     "evalue": "cannot import name 'tifffile' from 'skimage.io' (/home/pelvisvr/mambaforge/envs/deepdrr/lib/python3.10/site-packages/skimage/io/__init__.py)",
     "output_type": "error",
     "traceback": [
      "\u001b[0;31m---------------------------------------------------------------------------\u001b[0m",
      "\u001b[0;31mImportError\u001b[0m                               Traceback (most recent call last)",
      "Cell \u001b[0;32mIn[76], line 2\u001b[0m\n\u001b[1;32m      1\u001b[0m \u001b[38;5;28;01mimport\u001b[39;00m \u001b[38;5;21;01mnumpy\u001b[39;00m \u001b[38;5;28;01mas\u001b[39;00m \u001b[38;5;21;01mnp\u001b[39;00m\n\u001b[0;32m----> 2\u001b[0m \u001b[38;5;28;01mfrom\u001b[39;00m \u001b[38;5;21;01mskimage\u001b[39;00m\u001b[38;5;21;01m.\u001b[39;00m\u001b[38;5;21;01mio\u001b[39;00m \u001b[38;5;28;01mimport\u001b[39;00m tifffile \u001b[38;5;28;01mas\u001b[39;00m tif\n\u001b[1;32m      4\u001b[0m a \u001b[38;5;241m=\u001b[39m np\u001b[38;5;241m.\u001b[39mrandom\u001b[38;5;241m.\u001b[39mrandint(\u001b[38;5;241m0\u001b[39m,\u001b[38;5;241m5\u001b[39m, size\u001b[38;5;241m=\u001b[39m(\u001b[38;5;241m100\u001b[39m,\u001b[38;5;241m100\u001b[39m,\u001b[38;5;241m100\u001b[39m))\n\u001b[1;32m      5\u001b[0m a \u001b[38;5;241m=\u001b[39m a\u001b[38;5;241m.\u001b[39mastype(\u001b[38;5;124m'\u001b[39m\u001b[38;5;124mint8\u001b[39m\u001b[38;5;124m'\u001b[39m)\n",
      "\u001b[0;31mImportError\u001b[0m: cannot import name 'tifffile' from 'skimage.io' (/home/pelvisvr/mambaforge/envs/deepdrr/lib/python3.10/site-packages/skimage/io/__init__.py)"
     ]
    }
   ],
   "source": [
    "import numpy as np\n",
    "from skimage.io import tifffile as tif\n",
    "\n",
    "a = np.random.randint(0,5, size=(100,100,100))\n",
    "a = a.astype('int8')\n",
    "tif.imsave('a.tif', a, bigtiff=True)"
   ]
  },
  {
   "cell_type": "code",
   "execution_count": 43,
   "metadata": {},
   "outputs": [
    {
     "name": "stdout",
     "output_type": "stream",
     "text": [
      "2.8 ms ± 154 µs per loop (mean ± std. dev. of 7 runs, 100 loops each)\n"
     ]
    }
   ],
   "source": [
    "%timeit np.savez(\"hu_values.npy\", safd)"
   ]
  },
  {
   "cell_type": "code",
   "execution_count": 19,
   "metadata": {},
   "outputs": [
    {
     "name": "stdout",
     "output_type": "stream",
     "text": [
      "302 ms ± 0 ns per loop (mean ± std. dev. of 1 run, 1 loop each)\n"
     ]
    }
   ],
   "source": [
    "# save with npz\n",
    "\n",
    "def load_func():\n",
    "    np.savez(\"hu_values.npz\", hu_values=hu_values)\n",
    "\n",
    "%timeit -r1 load_func()"
   ]
  },
  {
   "cell_type": "code",
   "execution_count": 18,
   "metadata": {},
   "outputs": [
    {
     "name": "stdout",
     "output_type": "stream",
     "text": [
      "128 ms ± 0 ns per loop (mean ± std. dev. of 1 run, 10 loops each)\n"
     ]
    }
   ],
   "source": [
    "# save with npy\n",
    "\n",
    "def load_func():\n",
    "    np.save(\"hu_values.npy\", hu_values)\n",
    "\n",
    "%timeit -r1 load_func()"
   ]
  },
  {
   "cell_type": "code",
   "execution_count": 15,
   "metadata": {},
   "outputs": [
    {
     "ename": "KeyboardInterrupt",
     "evalue": "",
     "output_type": "error",
     "traceback": [
      "\u001b[0;31m---------------------------------------------------------------------------\u001b[0m",
      "\u001b[0;31mKeyboardInterrupt\u001b[0m                         Traceback (most recent call last)",
      "File \u001b[0;32m<timed eval>:1\u001b[0m\n",
      "Cell \u001b[0;32mIn[15], line 4\u001b[0m, in \u001b[0;36mload_func\u001b[0;34m()\u001b[0m\n\u001b[1;32m      3\u001b[0m \u001b[38;5;28;01mdef\u001b[39;00m \u001b[38;5;21mload_func\u001b[39m():\n\u001b[0;32m----> 4\u001b[0m     \u001b[43mnrrd\u001b[49m\u001b[38;5;241;43m.\u001b[39;49m\u001b[43mwrite\u001b[49m\u001b[43m(\u001b[49m\u001b[38;5;124;43m\"\u001b[39;49m\u001b[38;5;124;43mhu_values.nrrd\u001b[39;49m\u001b[38;5;124;43m\"\u001b[39;49m\u001b[43m,\u001b[49m\u001b[43m \u001b[49m\u001b[43mhu_values\u001b[49m\u001b[43m)\u001b[49m\n",
      "File \u001b[0;32m~/mambaforge/envs/deepdrr/lib/python3.10/site-packages/nrrd/writer.py:372\u001b[0m, in \u001b[0;36mwrite\u001b[0;34m(file, data, header, detached_header, relative_data_path, custom_field_map, compression_level, index_order)\u001b[0m\n\u001b[1;32m    370\u001b[0m     \u001b[38;5;66;03m# If header & data in the same file is desired, write data in the file\u001b[39;00m\n\u001b[1;32m    371\u001b[0m     \u001b[38;5;28;01mif\u001b[39;00m \u001b[38;5;129;01mnot\u001b[39;00m detached_header:\n\u001b[0;32m--> 372\u001b[0m         \u001b[43m_write_data\u001b[49m\u001b[43m(\u001b[49m\u001b[43mdata\u001b[49m\u001b[43m,\u001b[49m\u001b[43m \u001b[49m\u001b[43mfh\u001b[49m\u001b[43m,\u001b[49m\u001b[43m \u001b[49m\u001b[43mheader\u001b[49m\u001b[43m,\u001b[49m\u001b[43m \u001b[49m\u001b[43mcompression_level\u001b[49m\u001b[38;5;241;43m=\u001b[39;49m\u001b[43mcompression_level\u001b[49m\u001b[43m,\u001b[49m\u001b[43m \u001b[49m\u001b[43mindex_order\u001b[49m\u001b[38;5;241;43m=\u001b[39;49m\u001b[43mindex_order\u001b[49m\u001b[43m)\u001b[49m\n\u001b[1;32m    374\u001b[0m \u001b[38;5;66;03m# If detached header desired, write data to different file\u001b[39;00m\n\u001b[1;32m    375\u001b[0m \u001b[38;5;28;01mif\u001b[39;00m detached_header:\n",
      "File \u001b[0;32m~/mambaforge/envs/deepdrr/lib/python3.10/site-packages/nrrd/writer.py:243\u001b[0m, in \u001b[0;36m_write_data\u001b[0;34m(data, fh, header, compression_level, index_order)\u001b[0m\n\u001b[1;32m    240\u001b[0m     end_index \u001b[38;5;241m=\u001b[39m \u001b[38;5;28mmin\u001b[39m(start_index \u001b[38;5;241m+\u001b[39m _WRITE_CHUNKSIZE, raw_data_len)\n\u001b[1;32m    242\u001b[0m     \u001b[38;5;66;03m# Write the compressed data\u001b[39;00m\n\u001b[0;32m--> 243\u001b[0m     fh\u001b[38;5;241m.\u001b[39mwrite(\u001b[43mcompressobj\u001b[49m\u001b[38;5;241;43m.\u001b[39;49m\u001b[43mcompress\u001b[49m\u001b[43m(\u001b[49m\u001b[43mraw_data\u001b[49m\u001b[43m[\u001b[49m\u001b[43mstart_index\u001b[49m\u001b[43m:\u001b[49m\u001b[43mend_index\u001b[49m\u001b[43m]\u001b[49m\u001b[43m)\u001b[49m)\n\u001b[1;32m    245\u001b[0m     start_index \u001b[38;5;241m=\u001b[39m end_index\n\u001b[1;32m    247\u001b[0m \u001b[38;5;66;03m# Finish writing the data\u001b[39;00m\n",
      "\u001b[0;31mKeyboardInterrupt\u001b[0m: "
     ]
    }
   ],
   "source": [
    "# save with nrrd\n",
    "\n",
    "def load_func():\n",
    "    nrrd.write(\"hu_values.nrrd\", hu_values)\n",
    "\n",
    "%time load_func()"
   ]
  },
  {
   "cell_type": "code",
   "execution_count": 16,
   "metadata": {},
   "outputs": [
    {
     "name": "stdout",
     "output_type": "stream",
     "text": [
      "199 ms ± 0 ns per loop (mean ± std. dev. of 1 run, 10 loops each)\n"
     ]
    }
   ],
   "source": [
    "# save with nii\n",
    "import nibabel as nib\n",
    "\n",
    "def load_func():\n",
    "    nib.save(nib.Nifti1Image(hu_values, np.eye(4)), \"hu_values.nii\")\n",
    "\n",
    "%timeit -r1 load_func()"
   ]
  },
  {
   "cell_type": "code",
   "execution_count": null,
   "metadata": {},
   "outputs": [],
   "source": [
    "\n",
    "# def load_func():\n",
    "#     with h5py.File(\"hu_values.h5\", \"r\") as f:\n",
    "#         a = f[\"hu_values\"][:]\n",
    "#     return a[0, 0, 0]\n",
    "\n",
    "# %timeit load_func()"
   ]
  },
  {
   "cell_type": "code",
   "execution_count": null,
   "metadata": {},
   "outputs": [],
   "source": []
  },
  {
   "cell_type": "code",
   "execution_count": null,
   "metadata": {},
   "outputs": [],
   "source": []
  },
  {
   "cell_type": "code",
   "execution_count": null,
   "metadata": {},
   "outputs": [],
   "source": [
    "volume = Volume.from_nrrd(\"hu_values.nrrd\")\n",
    "mesh1 = Mesh.from_stl(\"mesh1.stl\", tag=\"mesh1\")\n",
    "mesh2 = Mesh.from_stl(\"mesh2.stl\", tag=\"mesh2\")\n",
    "\n",
    "carm = MobileCArm()\n",
    "\n",
    "graph = TransformGraph()\n",
    "graph.add(carm)\n",
    "graph.add(volume)\n",
    "graph.add(mesh1)\n",
    "graph.add(mesh2)\n",
    "\n",
    "scene = GraphScene(graph)\n",
    "\n",
    "renderer1 = SynchronousRenderer(scene=scene)\n",
    "\n",
    "drr_settings = DRRRenderSettings(\n",
    "    width=512,\n",
    "    height=512,\n",
    "    neglog=True,\n",
    ")\n",
    "drr_prof = DRRRenderProfile(\n",
    "    settings=drr_settings,\n",
    "    renderer=renderer1\n",
    ")\n",
    "\n",
    "renderer2 = SynchronousRenderer(scene=scene)\n",
    "\n",
    "rast_settings = RasterizeRenderSettings(\n",
    "    width=512,\n",
    "    height=512,\n",
    "    max_mesh_hits=32,\n",
    ")\n",
    "rasterize_prof = RasterizeRenderProfile(\n",
    "    settings=rast_settings,\n",
    "    renderer=renderer2\n",
    ")\n",
    "\n",
    "mesh1.world_from_anatomical = geo.FrameTransform.from_translation([-30, 50, 200])\n",
    "\n",
    "for frame_idx in range(10):\n",
    "    mesh2.world_from_anatomical = geo.FrameTransform.from_translation([0, 0, 10*frame_idx])\n",
    "\n",
    "    carm.move_by(\n",
    "        delta_isocenter=[0, 0, 10],\n",
    "        delta_alpha=5*frame_idx,\n",
    "        delta_beta=0,\n",
    "        delta_gamma=0,\n",
    "        degrees=False,\n",
    "    )\n",
    "\n",
    "    drr = drr_prof.render_drr()\n",
    "\n",
    "    segs = rasterize_prof.render_seg()\n",
    "    hits = rasterize_prof.render_hits()\n",
    "\n",
    "\n",
    "    "
   ]
  },
  {
   "cell_type": "code",
   "execution_count": null,
   "metadata": {},
   "outputs": [],
   "source": [
    "a = Primitive(primitive_id=\"a\", data=StlMesh(url=\"file:///home/pelvisvr/datasets/DeepDRR_DATA/CT-chest.nrrd\", material_name=\"material_name\", density=1.0, priority=1, addtive=True, subtractive=True))\n",
    "b = Primitive(primitive_id=\"b\", data=H5Volume(url=\"file:///home/pelvisvr/datasets/DeepDRR_DATA/CT-chest.nrrd\", priority=1))\n",
    "\n",
    "cam = Camera(transform=Matrix4x4(data=np.eye(4).flatten()), intrinsic=CameraIntrinsic(fx=1.0, fy=1.0, cx=0.0, cy=0.0, near=1.0, far=100.0))\n",
    "inst = Instance(primitive_id=\"a\", transform=Matrix4x4(data=np.eye(4).flatten()), morph_weights=[1.0, 2.0, 3.0])\n",
    "frame = Frame(camera=cam, instances=[inst])"
   ]
  },
  {
   "cell_type": "code",
   "execution_count": null,
   "metadata": {},
   "outputs": [],
   "source": [
    "c = Scene(primitives=[a,b], frames=[frame])"
   ]
  },
  {
   "cell_type": "code",
   "execution_count": null,
   "metadata": {},
   "outputs": [],
   "source": [
    "# save to asdf.json\n",
    "\n",
    "with open(\"asdf.json\", \"w\") as f:\n",
    "    f.write(c.model_dump_json(indent=2))"
   ]
  },
  {
   "cell_type": "code",
   "execution_count": null,
   "metadata": {},
   "outputs": [
    {
     "data": {
      "text/plain": [
       "Scene(primitives=[Primitive(primitive_id='a', data=StlMesh(prim_data_type='StlMesh', url=Url('file:///home/pelvisvr/datasets/DeepDRR_DATA/CT-chest.nrrd'), material_name='material_name', density=1.0, priority=1, addtive=True, subtractive=True)), Primitive(primitive_id='b', data=H5Volume(prim_data_type='H5Volume', url=Url('file:///home/pelvisvr/datasets/DeepDRR_DATA/CT-chest.nrrd'), priority=1))], frames=[Frame(camera=Camera(transform=Matrix4x4(data=[1.0, 0.0, 0.0, 0.0, 0.0, 1.0, 0.0, 0.0, 0.0, 0.0, 1.0, 0.0, 0.0, 0.0, 0.0, 1.0]), intrinsic=CameraIntrinsic(fx=1.0, fy=1.0, cx=0.0, cy=0.0, near=1.0, far=100.0)), instances=[Instance(primitive_id='a', transform=Matrix4x4(data=[1.0, 0.0, 0.0, 0.0, 0.0, 1.0, 0.0, 0.0, 0.0, 0.0, 1.0, 0.0, 0.0, 0.0, 0.0, 1.0]), morph_weights=[1.0, 2.0, 3.0])])])"
      ]
     },
     "execution_count": 21,
     "metadata": {},
     "output_type": "execute_result"
    }
   ],
   "source": [
    "# load\n",
    "with open(\"asdf.json\", \"r\") as f:\n",
    "    d = Scene.model_validate_json(f.read())\n",
    "\n",
    "d"
   ]
  },
  {
   "cell_type": "code",
   "execution_count": null,
   "metadata": {},
   "outputs": [
    {
     "data": {
      "text/plain": [
       "'/home/pelvisvr/datasets/DeepDRR_DATA/CT-chest.nrrd'"
      ]
     },
     "execution_count": 23,
     "metadata": {},
     "output_type": "execute_result"
    }
   ],
   "source": [
    "a.data.url.path"
   ]
  },
  {
   "cell_type": "code",
   "execution_count": null,
   "metadata": {},
   "outputs": [
    {
     "name": "stdout",
     "output_type": "stream",
     "text": [
      "42.189103\n"
     ]
    }
   ],
   "source": [
    "import urllib.request\n",
    "\n",
    "o = urllib.request.urlopen(\"file:///home/pelvisvr/datasets/DeepDRR_DATA/CT-chest.nrrd\")\n",
    "\n",
    "asdf = o.read()\n",
    "\n",
    "print(len(asdf) / 1e6)"
   ]
  },
  {
   "cell_type": "code",
   "execution_count": null,
   "metadata": {},
   "outputs": [
    {
     "data": {
      "text/plain": [
       "bytes"
      ]
     },
     "execution_count": 13,
     "metadata": {},
     "output_type": "execute_result"
    }
   ],
   "source": [
    "type(asdf)"
   ]
  }
 ],
 "metadata": {
  "kernelspec": {
   "display_name": "deepdrr",
   "language": "python",
   "name": "python3"
  },
  "language_info": {
   "codemirror_mode": {
    "name": "ipython",
    "version": 3
   },
   "file_extension": ".py",
   "mimetype": "text/x-python",
   "name": "python",
   "nbconvert_exporter": "python",
   "pygments_lexer": "ipython3",
   "version": "3.10.12"
  }
 },
 "nbformat": 4,
 "nbformat_minor": 2
}
